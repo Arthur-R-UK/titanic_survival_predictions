{
 "cells": [
  {
   "cell_type": "markdown",
   "id": "46e25b1b",
   "metadata": {},
   "source": [
    "# Titanic competition - predict survival"
   ]
  },
  {
   "cell_type": "markdown",
   "id": "d61152ad",
   "metadata": {},
   "source": [
    "In this notebook, I am using this dataset to practice a number of the techniques I have learnt so far. I won't use techniques which have absolutely no relevance to the dataset and task just for the sake of practice, but I will try to apply anything remotely applicable. "
   ]
  },
  {
   "cell_type": "markdown",
   "id": "cce9a1d1",
   "metadata": {},
   "source": [
    "## Data Exploration\n",
    "\n",
    "Start by exploring the data\n",
    "\n",
    "Information about the data can be found here: https://www.kaggle.com/competitions/titanic/data?select=train.csv"
   ]
  },
  {
   "cell_type": "code",
   "execution_count": 223,
   "id": "a99dd81f",
   "metadata": {},
   "outputs": [
    {
     "data": {
      "text/html": [
       "<div>\n",
       "<style scoped>\n",
       "    .dataframe tbody tr th:only-of-type {\n",
       "        vertical-align: middle;\n",
       "    }\n",
       "\n",
       "    .dataframe tbody tr th {\n",
       "        vertical-align: top;\n",
       "    }\n",
       "\n",
       "    .dataframe thead th {\n",
       "        text-align: right;\n",
       "    }\n",
       "</style>\n",
       "<table border=\"1\" class=\"dataframe\">\n",
       "  <thead>\n",
       "    <tr style=\"text-align: right;\">\n",
       "      <th></th>\n",
       "      <th>PassengerId</th>\n",
       "      <th>Survived</th>\n",
       "      <th>Pclass</th>\n",
       "      <th>Name</th>\n",
       "      <th>Sex</th>\n",
       "      <th>Age</th>\n",
       "      <th>SibSp</th>\n",
       "      <th>Parch</th>\n",
       "      <th>Ticket</th>\n",
       "      <th>Fare</th>\n",
       "      <th>Cabin</th>\n",
       "      <th>Embarked</th>\n",
       "    </tr>\n",
       "  </thead>\n",
       "  <tbody>\n",
       "    <tr>\n",
       "      <th>0</th>\n",
       "      <td>1</td>\n",
       "      <td>0</td>\n",
       "      <td>3</td>\n",
       "      <td>Braund, Mr. Owen Harris</td>\n",
       "      <td>male</td>\n",
       "      <td>22.0</td>\n",
       "      <td>1</td>\n",
       "      <td>0</td>\n",
       "      <td>A/5 21171</td>\n",
       "      <td>7.2500</td>\n",
       "      <td>NaN</td>\n",
       "      <td>S</td>\n",
       "    </tr>\n",
       "    <tr>\n",
       "      <th>1</th>\n",
       "      <td>2</td>\n",
       "      <td>1</td>\n",
       "      <td>1</td>\n",
       "      <td>Cumings, Mrs. John Bradley (Florence Briggs Thayer)</td>\n",
       "      <td>female</td>\n",
       "      <td>38.0</td>\n",
       "      <td>1</td>\n",
       "      <td>0</td>\n",
       "      <td>PC 17599</td>\n",
       "      <td>71.2833</td>\n",
       "      <td>C85</td>\n",
       "      <td>C</td>\n",
       "    </tr>\n",
       "    <tr>\n",
       "      <th>2</th>\n",
       "      <td>3</td>\n",
       "      <td>1</td>\n",
       "      <td>3</td>\n",
       "      <td>Heikkinen, Miss. Laina</td>\n",
       "      <td>female</td>\n",
       "      <td>26.0</td>\n",
       "      <td>0</td>\n",
       "      <td>0</td>\n",
       "      <td>STON/O2. 3101282</td>\n",
       "      <td>7.9250</td>\n",
       "      <td>NaN</td>\n",
       "      <td>S</td>\n",
       "    </tr>\n",
       "    <tr>\n",
       "      <th>3</th>\n",
       "      <td>4</td>\n",
       "      <td>1</td>\n",
       "      <td>1</td>\n",
       "      <td>Futrelle, Mrs. Jacques Heath (Lily May Peel)</td>\n",
       "      <td>female</td>\n",
       "      <td>35.0</td>\n",
       "      <td>1</td>\n",
       "      <td>0</td>\n",
       "      <td>113803</td>\n",
       "      <td>53.1000</td>\n",
       "      <td>C123</td>\n",
       "      <td>S</td>\n",
       "    </tr>\n",
       "    <tr>\n",
       "      <th>4</th>\n",
       "      <td>5</td>\n",
       "      <td>0</td>\n",
       "      <td>3</td>\n",
       "      <td>Allen, Mr. William Henry</td>\n",
       "      <td>male</td>\n",
       "      <td>35.0</td>\n",
       "      <td>0</td>\n",
       "      <td>0</td>\n",
       "      <td>373450</td>\n",
       "      <td>8.0500</td>\n",
       "      <td>NaN</td>\n",
       "      <td>S</td>\n",
       "    </tr>\n",
       "  </tbody>\n",
       "</table>\n",
       "</div>"
      ],
      "text/plain": [
       "   PassengerId  Survived  Pclass  \\\n",
       "0            1         0       3   \n",
       "1            2         1       1   \n",
       "2            3         1       3   \n",
       "3            4         1       1   \n",
       "4            5         0       3   \n",
       "\n",
       "                                                  Name     Sex   Age  SibSp  \\\n",
       "0                              Braund, Mr. Owen Harris    male  22.0      1   \n",
       "1  Cumings, Mrs. John Bradley (Florence Briggs Thayer)  female  38.0      1   \n",
       "2                               Heikkinen, Miss. Laina  female  26.0      0   \n",
       "3         Futrelle, Mrs. Jacques Heath (Lily May Peel)  female  35.0      1   \n",
       "4                             Allen, Mr. William Henry    male  35.0      0   \n",
       "\n",
       "   Parch            Ticket     Fare Cabin Embarked  \n",
       "0      0         A/5 21171   7.2500   NaN        S  \n",
       "1      0          PC 17599  71.2833   C85        C  \n",
       "2      0  STON/O2. 3101282   7.9250   NaN        S  \n",
       "3      0            113803  53.1000  C123        S  \n",
       "4      0            373450   8.0500   NaN        S  "
      ]
     },
     "execution_count": 223,
     "metadata": {},
     "output_type": "execute_result"
    }
   ],
   "source": [
    "import pandas as pd\n",
    "\n",
    "import numpy as np\n",
    "np.random.seed(0)\n",
    "\n",
    "df = pd.read_csv(\"C:/Users/arthu/OneDrive/Documents/GitHub/titanic_survival_predictions/titanic/train.csv\")\n",
    "df.head()"
   ]
  },
  {
   "cell_type": "markdown",
   "id": "a0fe171e",
   "metadata": {},
   "source": [
    "Let's look at the overall shape first."
   ]
  },
  {
   "cell_type": "code",
   "execution_count": 224,
   "id": "4f77190e",
   "metadata": {},
   "outputs": [
    {
     "data": {
      "text/plain": [
       "(891, 12)"
      ]
     },
     "execution_count": 224,
     "metadata": {},
     "output_type": "execute_result"
    }
   ],
   "source": [
    "df.shape"
   ]
  },
  {
   "cell_type": "markdown",
   "id": "bdb186ac",
   "metadata": {},
   "source": [
    "So there are 891 rows, 12 columns.\n",
    "\n",
    "I will investigate the columns below and as I find information, I will add it to a summary dataframe, feature_info."
   ]
  },
  {
   "cell_type": "markdown",
   "id": "d78c36b8",
   "metadata": {},
   "source": [
    "### Basic data investigation\n",
    "\n",
    "Let's start by looking at how much missing data there is in each column."
   ]
  },
  {
   "cell_type": "code",
   "execution_count": 225,
   "id": "fd0507bb",
   "metadata": {},
   "outputs": [],
   "source": [
    "feature_info = df.isnull().sum().to_frame()\n",
    "feature_info = feature_info.rename(columns={0: \"missing_values\"})"
   ]
  },
  {
   "cell_type": "markdown",
   "id": "1a24a25f",
   "metadata": {},
   "source": [
    "Age:\n",
    "I should investigate whether there is any pattern to the missing values. \n",
    "\n",
    "Cabin:\n",
    "From some brief research online, it appears that all passengers - even third class passengers - did have assigned cabins. However, information about who had which cabin is largely unavailable. One source mentions that cabin allocations are largely only known for first class passengers - perhaps I could check if that is the case in this data. Ideally, it would be useful to be able to translate the cabin number into information about the person's position in the ship - fore or aft, port or starboard, and which deck. Where cabin numbers are missing, we can try to infer as much as we can from Pclass.\n",
    "\n",
    "Embarked:\n",
    "There are only two missing values in the training data. I might have to label encode this column so can encode 'no data' as a separate label.\n",
    "\n",
    "I will now add these notes, along with notes provided in the data documentation, into a 'notes' column in the feature_info DataFrame."
   ]
  },
  {
   "cell_type": "code",
   "execution_count": 226,
   "id": "a8e3fa4c",
   "metadata": {},
   "outputs": [],
   "source": [
    "#These are the definitions given in the documentation about the data\n",
    "feature_definitions = pd.Series([\n",
    "    \"Passenger ID\",\n",
    "    \"0 = died, 1 = survived\",\n",
    "    \"Ticket class: 1, 2 or 3\",\n",
    "    \"Name\",\n",
    "    \"Sex\",\n",
    "    \"Age in years\",\n",
    "    \"Number of siblings / spouses aboard\",\n",
    "    \"Number of parents / children aboard\",\n",
    "    \"Ticket number\",\n",
    "    \"Passenger fare\",\n",
    "    \"Cabin number\",\n",
    "    \"Port of embarkation: C = Cherbourg, Q = Queenstown, S = Southampton\"\n",
    "], index=df.columns)\n",
    "\n",
    "#Create a new column to contain these definitions and any other notes we want to add \n",
    "feature_info = feature_info.assign(notes = feature_definitions)\n",
    "\n",
    "#Create a quick way to neatly add notes on the notes column\n",
    "def add_note(feature, note):\n",
    "    if not feature_info.loc[feature, \"notes\"] is None:\n",
    "        if str(feature_info.loc[feature, \"notes\"])[-1] == \".\":\n",
    "            feature_info.loc[feature, \"notes\"] = str(feature_info.loc[feature, \"notes\"]) + \" \" + note\n",
    "        else:\n",
    "            feature_info.loc[feature, \"notes\"] = str(feature_info.loc[feature, \"notes\"]) + \". \" + note\n",
    "    else:\n",
    "        feature_info.loc[feature, \"notes\"] = note\n",
    "    \n",
    "add_note(\"Pclass\", \"A proxy for socio-economic status (SES); 1st = Upper, 2nd = Middle, 3rd = Lower\")\n",
    "add_note(\"Age\", \"177 missing values - investigate if there is a pattern to this. Age is fractional if less than 1. If the age is estimated, is it in the form of xx.5\")\n",
    "add_note(\"SibSp\", \"The dataset defines family relations in this way... Sibling = brother, sister, stepbrother, stepsister, Spouse = husband, wife (mistresses and fiancés were ignored)\")\n",
    "add_note(\"Parch\", \"The dataset defines family relations in this way... Parent = mother, father; Child = daughter, son, stepdaughter, stepson; Some children travelled only with a nanny, therefore parch=0 for them.\")\n",
    "add_note(\"Cabin\", \"From some brief research online, it appears that all passengers - even third class passengers - did have assigned cabins. However, information about who had which cabin is largely unavailable. One source mentions that cabin allocations are largely only known for first class passengers - perhaps I could check if that is the case in this data. Ideally, it would be useful to be able to translate the cabin number into information about the person's position in the ship - fore or aft, port or starboard, and which deck. Where cabin numbers are missing, we can try to infer as much as we can from Pclass.\")\n",
    "add_note(\"Embarked\", \"There are only two missing values in the training data. I might have to label encode this column so can encode 'no data' as a separate label.\")\n",
    "\n",
    "feature_info[\"notes\"] = feature_info[\"notes\"].fillna(\"\")\n",
    "\n",
    "pd.set_option('display.max_colwidth', None)"
   ]
  },
  {
   "cell_type": "markdown",
   "id": "9f96d771",
   "metadata": {},
   "source": [
    "It would also be useful to include the data type and number of unique values of each of the features in the table."
   ]
  },
  {
   "cell_type": "code",
   "execution_count": 227,
   "id": "3500ea3c",
   "metadata": {},
   "outputs": [],
   "source": [
    "#Add a column containing the data type of each of the features\n",
    "feature_info[\"dtype\"] = df.dtypes\n",
    "\n",
    "#Add a column containing the number of unique values\n",
    "feature_info[\"unique_values\"] = df.nunique()"
   ]
  },
  {
   "cell_type": "markdown",
   "id": "f2ec5524",
   "metadata": {},
   "source": [
    "### Mutual information\n",
    "\n",
    "Next, it might be useful to measure the mutual information of all of the features, so I'll add that to the table too."
   ]
  },
  {
   "cell_type": "code",
   "execution_count": 228,
   "id": "91fd5ef2",
   "metadata": {
    "scrolled": true
   },
   "outputs": [
    {
     "data": {
      "text/html": [
       "<div>\n",
       "<style scoped>\n",
       "    .dataframe tbody tr th:only-of-type {\n",
       "        vertical-align: middle;\n",
       "    }\n",
       "\n",
       "    .dataframe tbody tr th {\n",
       "        vertical-align: top;\n",
       "    }\n",
       "\n",
       "    .dataframe thead th {\n",
       "        text-align: right;\n",
       "    }\n",
       "</style>\n",
       "<table border=\"1\" class=\"dataframe\">\n",
       "  <thead>\n",
       "    <tr style=\"text-align: right;\">\n",
       "      <th></th>\n",
       "      <th>missing_values</th>\n",
       "      <th>notes</th>\n",
       "      <th>dtype</th>\n",
       "      <th>unique_values</th>\n",
       "      <th>mutual_info</th>\n",
       "    </tr>\n",
       "  </thead>\n",
       "  <tbody>\n",
       "    <tr>\n",
       "      <th>Sex</th>\n",
       "      <td>0</td>\n",
       "      <td>Sex</td>\n",
       "      <td>object</td>\n",
       "      <td>2</td>\n",
       "      <td>0.155741</td>\n",
       "    </tr>\n",
       "    <tr>\n",
       "      <th>Fare</th>\n",
       "      <td>0</td>\n",
       "      <td>Passenger fare</td>\n",
       "      <td>float64</td>\n",
       "      <td>248</td>\n",
       "      <td>0.122319</td>\n",
       "    </tr>\n",
       "    <tr>\n",
       "      <th>Ticket</th>\n",
       "      <td>0</td>\n",
       "      <td>Ticket number</td>\n",
       "      <td>object</td>\n",
       "      <td>681</td>\n",
       "      <td>0.084632</td>\n",
       "    </tr>\n",
       "    <tr>\n",
       "      <th>Cabin</th>\n",
       "      <td>687</td>\n",
       "      <td>Cabin number. From some brief research online, it appears that all passengers - even third class passengers - did have assigned cabins. However, information about who had which cabin is largely unavailable. One source mentions that cabin allocations are largely only known for first class passengers - perhaps I could check if that is the case in this data. Ideally, it would be useful to be able to translate the cabin number into information about the person's position in the ship - fore or aft, port or starboard, and which deck. Where cabin numbers are missing, we can try to infer as much as we can from Pclass.</td>\n",
       "      <td>object</td>\n",
       "      <td>147</td>\n",
       "      <td>0.064692</td>\n",
       "    </tr>\n",
       "    <tr>\n",
       "      <th>Pclass</th>\n",
       "      <td>0</td>\n",
       "      <td>Ticket class: 1, 2 or 3. A proxy for socio-economic status (SES); 1st = Upper, 2nd = Middle, 3rd = Lower</td>\n",
       "      <td>int64</td>\n",
       "      <td>3</td>\n",
       "      <td>0.04084</td>\n",
       "    </tr>\n",
       "    <tr>\n",
       "      <th>Embarked</th>\n",
       "      <td>2</td>\n",
       "      <td>Port of embarkation: C = Cherbourg, Q = Queenstown, S = Southampton. There are only two missing values in the training data. I might have to label encode this column so can encode 'no data' as a separate label.</td>\n",
       "      <td>object</td>\n",
       "      <td>3</td>\n",
       "      <td>0.034825</td>\n",
       "    </tr>\n",
       "    <tr>\n",
       "      <th>Name</th>\n",
       "      <td>0</td>\n",
       "      <td>Name</td>\n",
       "      <td>object</td>\n",
       "      <td>891</td>\n",
       "      <td>0.016819</td>\n",
       "    </tr>\n",
       "    <tr>\n",
       "      <th>PassengerId</th>\n",
       "      <td>0</td>\n",
       "      <td>Passenger ID</td>\n",
       "      <td>int64</td>\n",
       "      <td>891</td>\n",
       "      <td>0.01653</td>\n",
       "    </tr>\n",
       "    <tr>\n",
       "      <th>Age</th>\n",
       "      <td>177</td>\n",
       "      <td>Age in years. 177 missing values - investigate if there is a pattern to this. Age is fractional if less than 1. If the age is estimated, is it in the form of xx.5</td>\n",
       "      <td>float64</td>\n",
       "      <td>88</td>\n",
       "      <td>0.015774</td>\n",
       "    </tr>\n",
       "    <tr>\n",
       "      <th>Parch</th>\n",
       "      <td>0</td>\n",
       "      <td>Number of parents / children aboard. The dataset defines family relations in this way... Parent = mother, father; Child = daughter, son, stepdaughter, stepson; Some children travelled only with a nanny, therefore parch=0 for them.</td>\n",
       "      <td>int64</td>\n",
       "      <td>7</td>\n",
       "      <td>0.014449</td>\n",
       "    </tr>\n",
       "    <tr>\n",
       "      <th>SibSp</th>\n",
       "      <td>0</td>\n",
       "      <td>Number of siblings / spouses aboard. The dataset defines family relations in this way... Sibling = brother, sister, stepbrother, stepsister, Spouse = husband, wife (mistresses and fiancés were ignored)</td>\n",
       "      <td>int64</td>\n",
       "      <td>7</td>\n",
       "      <td>0.01209</td>\n",
       "    </tr>\n",
       "  </tbody>\n",
       "</table>\n",
       "</div>"
      ],
      "text/plain": [
       "             missing_values  \\\n",
       "Sex                       0   \n",
       "Fare                      0   \n",
       "Ticket                    0   \n",
       "Cabin                   687   \n",
       "Pclass                    0   \n",
       "Embarked                  2   \n",
       "Name                      0   \n",
       "PassengerId               0   \n",
       "Age                     177   \n",
       "Parch                     0   \n",
       "SibSp                     0   \n",
       "\n",
       "                                                                                                                                                                                                                                                                                                                                                                                                                                                                                                                                                                                                                                                 notes  \\\n",
       "Sex                                                                                                                                                                                                                                                                                                                                                                                                                                                                                                                                                                                                                                                Sex   \n",
       "Fare                                                                                                                                                                                                                                                                                                                                                                                                                                                                                                                                                                                                                                    Passenger fare   \n",
       "Ticket                                                                                                                                                                                                                                                                                                                                                                                                                                                                                                                                                                                                                                   Ticket number   \n",
       "Cabin        Cabin number. From some brief research online, it appears that all passengers - even third class passengers - did have assigned cabins. However, information about who had which cabin is largely unavailable. One source mentions that cabin allocations are largely only known for first class passengers - perhaps I could check if that is the case in this data. Ideally, it would be useful to be able to translate the cabin number into information about the person's position in the ship - fore or aft, port or starboard, and which deck. Where cabin numbers are missing, we can try to infer as much as we can from Pclass.   \n",
       "Pclass                                                                                                                                                                                                                                                                                                                                                                                                                                                                                                                                        Ticket class: 1, 2 or 3. A proxy for socio-economic status (SES); 1st = Upper, 2nd = Middle, 3rd = Lower   \n",
       "Embarked                                                                                                                                                                                                                                                                                                                                                                                                                            Port of embarkation: C = Cherbourg, Q = Queenstown, S = Southampton. There are only two missing values in the training data. I might have to label encode this column so can encode 'no data' as a separate label.   \n",
       "Name                                                                                                                                                                                                                                                                                                                                                                                                                                                                                                                                                                                                                                              Name   \n",
       "PassengerId                                                                                                                                                                                                                                                                                                                                                                                                                                                                                                                                                                                                                               Passenger ID   \n",
       "Age                                                                                                                                                                                                                                                                                                                                                                                                                                                                                 Age in years. 177 missing values - investigate if there is a pattern to this. Age is fractional if less than 1. If the age is estimated, is it in the form of xx.5   \n",
       "Parch                                                                                                                                                                                                                                                                                                                                                                                                           Number of parents / children aboard. The dataset defines family relations in this way... Parent = mother, father; Child = daughter, son, stepdaughter, stepson; Some children travelled only with a nanny, therefore parch=0 for them.   \n",
       "SibSp                                                                                                                                                                                                                                                                                                                                                                                                                                        Number of siblings / spouses aboard. The dataset defines family relations in this way... Sibling = brother, sister, stepbrother, stepsister, Spouse = husband, wife (mistresses and fiancés were ignored)   \n",
       "\n",
       "               dtype  unique_values mutual_info  \n",
       "Sex           object              2    0.155741  \n",
       "Fare         float64            248    0.122319  \n",
       "Ticket        object            681    0.084632  \n",
       "Cabin         object            147    0.064692  \n",
       "Pclass         int64              3     0.04084  \n",
       "Embarked      object              3    0.034825  \n",
       "Name          object            891    0.016819  \n",
       "PassengerId    int64            891     0.01653  \n",
       "Age          float64             88    0.015774  \n",
       "Parch          int64              7    0.014449  \n",
       "SibSp          int64              7     0.01209  "
      ]
     },
     "execution_count": 228,
     "metadata": {},
     "output_type": "execute_result"
    }
   ],
   "source": [
    "from sklearn.feature_selection import mutual_info_classif\n",
    "\n",
    "#Create a copy of the dataframe that we can modify for use with the mutual information algorithm\n",
    "X_mi = df.copy()\n",
    "y_mi = X_mi.pop(\"Survived\")\n",
    "\n",
    "#Quickly deal with missing values in an easy way\n",
    "#Fill missing values in the 'Cabin' column with the class of travel\n",
    "X_mi[\"Cabin\"] = X_mi[\"Cabin\"].fillna(X_mi[\"Pclass\"])\n",
    "#Impute 'Age' using the mean\n",
    "X_mi[\"Age\"] = X_mi[\"Age\"].fillna(X_mi[\"Age\"].mean())\n",
    "#Impute 'Embarked' using the mode\n",
    "X_mi[\"Embarked\"] = X_mi[\"Embarked\"].fillna(X_mi[\"Embarked\"].mode()[0])\n",
    "\n",
    "#Quick label encoding for categorical variables\n",
    "for colname in X_mi.select_dtypes(\"object\"):\n",
    "    X_mi[colname], _ = X_mi[colname].factorize()\n",
    "\n",
    "#All the integer features are discrete\n",
    "disc_feats = X_mi.dtypes == int\n",
    "\n",
    "mi_scores = mutual_info_classif(X_mi, y_mi, discrete_features=disc_feats, random_state=0)\n",
    "\n",
    "scores_dict = {}\n",
    "\n",
    "for i in range(0, 11):\n",
    "    scores_dict[X_mi.columns[i]] = mi_scores[i]\n",
    "    \n",
    "feature_info = feature_info.assign(mutual_info = pd.Series(scores_dict))\n",
    "feature_info.loc[\"Survived\", \"mutual_info\"] = \"Not applicable\"\n",
    "\n",
    "#Display the results in descending order, with the target removed from the table to allow sorting\n",
    "feature_info.drop(\"Survived\", axis=0).sort_values(\"mutual_info\", ascending=False)"
   ]
  },
  {
   "cell_type": "markdown",
   "id": "1358c6d0",
   "metadata": {},
   "source": [
    "### Feature engineering\n",
    "\n",
    "Based on the above information, I will now conduct some further investigation of individual features and start making changes to a 'df_modified' DataFrame which I will use for the modelling."
   ]
  },
  {
   "cell_type": "code",
   "execution_count": 229,
   "id": "7caeb192",
   "metadata": {},
   "outputs": [],
   "source": [
    "df_modified = df.copy()"
   ]
  },
  {
   "cell_type": "markdown",
   "id": "02000c32",
   "metadata": {},
   "source": [
    "#### Sex\n",
    "\n",
    "We can sum up the relationship between Sex and survival by simple noting what fraction of passengers of each gender survived:"
   ]
  },
  {
   "cell_type": "code",
   "execution_count": 230,
   "id": "1837aa52",
   "metadata": {},
   "outputs": [
    {
     "name": "stdout",
     "output_type": "stream",
     "text": [
      "Male survival rate:  0.18890814558058924 \n",
      "Female survival rate:  0.4038128249566724\n"
     ]
    }
   ],
   "source": [
    "print(\n",
    "    \"Male survival rate: \", \n",
    "    df.loc[(df[\"Sex\"] == \"male\") & (df[\"Survived\"] == 1)].shape[0] / df.loc[df[\"Sex\"] == \"male\"].shape[0], \n",
    "    \"\\nFemale survival rate: \",  \n",
    "    df.loc[(df[\"Sex\"] == \"female\") & (df[\"Survived\"] == 1)].shape[0] / df.loc[df[\"Sex\"] == \"male\"].shape[0]\n",
    ")"
   ]
  },
  {
   "cell_type": "markdown",
   "id": "043fcf56",
   "metadata": {},
   "source": [
    "So female passengers were more than twice as likely to survive. This is clearly a useful feature. We merely need to label encode the 'Sex' feature to make it work in the model."
   ]
  },
  {
   "cell_type": "code",
   "execution_count": 231,
   "id": "5dd89621",
   "metadata": {},
   "outputs": [],
   "source": [
    "df_modified[\"Sex\"], _ = df_modified[\"Sex\"].factorize()\n",
    "add_note(\"Sex\", \"Label encode this feature.\")"
   ]
  },
  {
   "cell_type": "markdown",
   "id": "b3f17191",
   "metadata": {},
   "source": [
    "#### Fare\n",
    "\n",
    "For the fare, we can look at a boxen plot:"
   ]
  },
  {
   "cell_type": "code",
   "execution_count": 232,
   "id": "08bd687d",
   "metadata": {
    "scrolled": false
   },
   "outputs": [
    {
     "data": {
      "text/plain": [
       "<AxesSubplot: xlabel='Survived', ylabel='Fare'>"
      ]
     },
     "execution_count": 232,
     "metadata": {},
     "output_type": "execute_result"
    },
    {
     "data": {
      "image/png": "[encoded data removed]",
      "text/plain": [
       "<Figure size 1600x600 with 1 Axes>"
      ]
     },
     "metadata": {},
     "output_type": "display_data"
    }
   ],
   "source": [
    "import matplotlib.pyplot as plt\n",
    "import matplotlib\n",
    "%matplotlib inline\n",
    "import seaborn as sns\n",
    "\n",
    "matplotlib.rcParams['figure.figsize'] = [16, 6]\n",
    "\n",
    "sns.boxenplot(x=df[\"Survived\"], y=df[\"Fare\"])"
   ]
  },
  {
   "cell_type": "markdown",
   "id": "118a41b3",
   "metadata": {},
   "source": [
    "There is significant overlap, but those who paid more were clearly more likely to survive. This is a continuous numerical feature and can be left as-is."
   ]
  },
  {
   "cell_type": "code",
   "execution_count": 233,
   "id": "2e882667",
   "metadata": {},
   "outputs": [],
   "source": [
    "add_note(\"Fare\", \"Use this feature as-is.\")"
   ]
  },
  {
   "cell_type": "markdown",
   "id": "00999a74",
   "metadata": {},
   "source": [
    "#### Ticket number\n",
    "\n",
    "It seems surprising that the ticket number's mutual information score is as high as it is. Why might this be? \n",
    "\n",
    "I have done some online research around the systems used to sell tickets, and there are no obvious ways in which this feature could influence the odds of survival. \n",
    "\n",
    "Perhaps the ticket number appears to be a strong predictor of survival because the algorithm can learn which passengers survived and what their ticket numbers were, and thus use ticket number to predict survival, but not survival to predict ticket number. If this is the case, then the Ticket feature would not be a useful one, and using it could lead to overfitting. It may be best to remove this feature from the training data.\n",
    "\n",
    "In some cases there are two components to the ticket number, separated by a space. Perhaps separating these components could be illuminating?"
   ]
  },
  {
   "cell_type": "code",
   "execution_count": 234,
   "id": "e043e463",
   "metadata": {},
   "outputs": [],
   "source": [
    "add_note(\"Ticket\", \"It seems this feature lacks value and could be removed before training the model, unless there is something useful to glean from separating the components of the values which contain a space.\")\n",
    "df_modified = df_modified.drop(\"Ticket\", axis=1)"
   ]
  },
  {
   "cell_type": "markdown",
   "id": "1d715455",
   "metadata": {},
   "source": [
    "#### Cabin number\n",
    "\n",
    "For the MI calculation, the 'Cabin' feature was filled with 'Pclass' values where actual cabin numbers were missing, so it is interesting that this feature scores more highly than 'Pclass'. This seems to imply that the cabin numbers that *are* available do add some useful information. As I thought initially, it would probably be worth investigating what cabin number means in terms of position on board.\n",
    "\n",
    "It seems likely that the deck that passengers' cabins were on could affect how quickly they were able to reach lifeboats, or how quickly the route from their cabins was flooded after the initial collision. I will therefore try replacing the 'Cabin' feature with a 'Deck' feature derived from the letter component of the cabin number.\n",
    "\n",
    "In order to help the model make sense of this categorical data, I will also try to encode it in such a way that the people I expect to have been best positioned to escape the ship (based on their cabin position) have the highest integer value in this feature. On first principles, I would expect that the people closest to the lifeboats would have had the advantage, and the farther a cabin was away from the uppermost boat deck (where all but two of the lifeboats were located), the lower the number I should assign them.\n",
    "\n",
    "|Deck letter | Integer encoding |\n",
    "|-------------|--------------|\n",
    "|T (boat deck) |8 |\n",
    "|A |7 |\n",
    "|B |6 |\n",
    "|C |5 |\n",
    "|D |4 |\n",
    "|E |3 |\n",
    "|F |2 |\n",
    "|G |1 |\n",
    "\n",
    "There are some cases where the cabin number(s) of a passenger mention two decks, e.g. 'EF' and 'FG'. I will encode these as the average of the decks mentioned.\n",
    "\n",
    "Where no cabin number data is available, I will try infer the likely deck from the Pclass feature. I have found some information on titanic.fandom.com which may help. There were first class cabins on six decks: six on the boat deck (labelled differently from other cabins, with a single letter; only one of these, 'T', was occupied), 36 on A, 101 on B, 134 on C, 49 on D, and 45 on E. There were second class cabins on three decks: 39 on D, 65 on E and 64 on F. I will use weighted averages for first and second class:\n",
    "\n",
    "$w_{1st} = \\frac{36\\times7 + 101\\times6 + 134\\times5 + 49\\times4 + 45\\times3}{36 + 101 + 134 + 49 + 45} = 5.09$\n",
    "\n",
    "$w_{2nd} = \\frac{39\\times4 + 65\\times3 + 64\\times2}{39 + 65 + 64} = 2.85$\n",
    "\n",
    "Third class cabins were mostly on F deck, a few on D and E, and some on G. I will therefore assume that third class passengers whose cabin numbers are unknown were on F deck.\n",
    "\n",
    "When encoding this information, I will rename the column 'Boat_Proximity' for clarity."
   ]
  },
  {
   "cell_type": "code",
   "execution_count": 235,
   "id": "b564270b",
   "metadata": {},
   "outputs": [
    {
     "data": {
      "text/plain": [
       "<AxesSubplot: xlabel='Survived', ylabel='Boat_Proximity'>"
      ]
     },
     "execution_count": 235,
     "metadata": {},
     "output_type": "execute_result"
    },
    {
     "data": {
      "image/png": "[encoded data removed]",
      "text/plain": [
       "<Figure size 1600x600 with 1 Axes>"
      ]
     },
     "metadata": {},
     "output_type": "display_data"
    }
   ],
   "source": [
    "#Create separate columns for the letter and number components\n",
    "\n",
    "def get_cabin_letters(st):\n",
    "    if type(st) == float:\n",
    "        return st\n",
    "    rtnval = \"\"\n",
    "    for c in st:\n",
    "        if c.isalpha():\n",
    "            if c not in rtnval:\n",
    "                rtnval += c\n",
    "    return \"\".join(sorted(rtnval))\n",
    "    \n",
    "df_modified[\"Deck\"] = df[\"Cabin\"].map(get_cabin_letters)\n",
    "df_modified = df_modified.drop(\"Cabin\", axis=1)\n",
    "\n",
    "deck_encoding = {\"A\": 7, \"B\": 6, \"C\": 5, \"D\": 4, \"E\": 3, \"F\": 2, \"G\": 1, \"T\": 8}\n",
    "pclass_deck_encoding = {1: 5.09, 2: 2.85, 3: 2}\n",
    "\n",
    "def encode_deck(r):\n",
    "    #Where there isn't a cabin number, use the weighted average of decks for the passenger's Pclass\n",
    "    if type(r[\"Deck\"]) == float:\n",
    "        return pclass_deck_encoding[r[\"Pclass\"]]\n",
    "    #If the passenger's cabin number(s) mentioned multiple decks, take the average of those\n",
    "    elif len(r[\"Deck\"]) > 1:\n",
    "        sum_of_decks = 0\n",
    "        for letter in r[\"Deck\"]:\n",
    "            sum_of_decks += deck_encoding[letter]\n",
    "        return sum_of_decks / len(r[\"Deck\"])\n",
    "    #If all is well and the cabin number mentions a single deck, use the corresponding value of Boat_Proximity\n",
    "    else:\n",
    "        return deck_encoding[r[\"Deck\"]]\n",
    "                                    \n",
    "df_modified[\"Boat_Proximity\"] = df_modified.apply(encode_deck, axis=1)\n",
    "df_modified = df_modified.drop(\"Deck\", axis=1)\n",
    "\n",
    "add_note(\"Cabin\", \"Replace this feature with one characterising the estimated proximity of a passenger's cabin to the lifeboats.\")\n",
    "\n",
    "sns.boxenplot(x=df_modified[\"Survived\"], y=df_modified[\"Boat_Proximity\"])"
   ]
  },
  {
   "cell_type": "markdown",
   "id": "13dae9bd",
   "metadata": {},
   "source": [
    "The plot suggests that Boat_Proximity will be a useful feature."
   ]
  },
  {
   "cell_type": "markdown",
   "id": "e221bead",
   "metadata": {},
   "source": [
    "#### Class\n",
    "It is interesting that this the 'Pclass' feature isn't a stronger predictor, given that 'Fare' is a high scorer and I would expect Pclass and Fare to be closely correlated. I should check the relationship between these, perhaps using a swarm visualisation or similar. If Pclass is indeed strongly correlated with Fare but doesn't have a similar mutual information score, perhaps this is something to do with the number of people represented in each of the Pclass buckets."
   ]
  },
  {
   "cell_type": "code",
   "execution_count": 236,
   "id": "6382e302",
   "metadata": {},
   "outputs": [
    {
     "data": {
      "text/plain": [
       "<AxesSubplot: xlabel='Pclass', ylabel='Fare'>"
      ]
     },
     "execution_count": 236,
     "metadata": {},
     "output_type": "execute_result"
    },
    {
     "data": {
      "image/png": "[encoded data removed]",
      "text/plain": [
       "<Figure size 1600x600 with 1 Axes>"
      ]
     },
     "metadata": {},
     "output_type": "display_data"
    }
   ],
   "source": [
    "sns.boxenplot(x=df[\"Pclass\"], y=df[\"Fare\"])"
   ]
  },
  {
   "cell_type": "markdown",
   "id": "5ea9bf1f",
   "metadata": {},
   "source": [
    "There appears to be a strong relationship between Fare and Pclass, as we would expect, even if there is a certain amount of overlap between the fares paid for tickets in the different classes.\n",
    "\n",
    "Let's look at the survival rates by Pclass:"
   ]
  },
  {
   "cell_type": "code",
   "execution_count": 237,
   "id": "73d78dd7",
   "metadata": {},
   "outputs": [
    {
     "data": {
      "text/plain": [
       "<AxesSubplot: xlabel='Pclass', ylabel='Survived'>"
      ]
     },
     "execution_count": 237,
     "metadata": {},
     "output_type": "execute_result"
    },
    {
     "data": {
      "image/png": "[encoded data removed]",
      "text/plain": [
       "<Figure size 1600x600 with 1 Axes>"
      ]
     },
     "metadata": {},
     "output_type": "display_data"
    }
   ],
   "source": [
    "pclass_groupings_survival = df.groupby(\"Pclass\")[\"Survived\"]\n",
    "pclass_survival_pct = 100 * pclass_groupings_survival.sum() / pclass_groupings_survival.count()\n",
    "pclass_survival_pct = pclass_survival_pct.rename(index={1: \"First\", 2: \"Second\", 3: \"Third\"})\n",
    "\n",
    "pclass_survival_pct\n",
    "\n",
    "sns.barplot(x=pclass_survival_pct.index, y=pclass_survival_pct)"
   ]
  },
  {
   "cell_type": "markdown",
   "id": "175da919",
   "metadata": {},
   "source": [
    "This looks like a strong relationship, so I will keep the Pclass feature as-is; it doesn't require label-encoding."
   ]
  },
  {
   "cell_type": "code",
   "execution_count": 238,
   "id": "cdcb1d45",
   "metadata": {},
   "outputs": [],
   "source": [
    "add_note(\"Pclass\", \"Use this feature as-is.\")"
   ]
  },
  {
   "cell_type": "markdown",
   "id": "3607e020",
   "metadata": {},
   "source": [
    "#### Port of embarkation\n",
    "The 'Embarked' feature also has a reasonably high mutual information score, and it isn't immediately obvious why this would be the case."
   ]
  },
  {
   "cell_type": "code",
   "execution_count": 239,
   "id": "744bb0ca",
   "metadata": {
    "scrolled": true
   },
   "outputs": [
    {
     "name": "stdout",
     "output_type": "stream",
     "text": [
      "Southampton survival rate:  0.33695652173913043 \n",
      "Cherbourg survival rate:  0.5535714285714286 \n",
      "Queenstown survival rate:  0.38961038961038963\n"
     ]
    }
   ],
   "source": [
    "print(\n",
    "    \"Southampton survival rate: \", \n",
    "    df.loc[(df[\"Embarked\"] == \"S\") & (df[\"Survived\"] == 1)].shape[0] / df.loc[df[\"Embarked\"] == \"S\"].shape[0], \n",
    "    \"\\nCherbourg survival rate: \",  \n",
    "    df.loc[(df[\"Embarked\"] == \"C\") & (df[\"Survived\"] == 1)].shape[0] / df.loc[df[\"Embarked\"] == \"C\"].shape[0],\n",
    "    \"\\nQueenstown survival rate: \",  \n",
    "    df.loc[(df[\"Embarked\"] == \"Q\") & (df[\"Survived\"] == 1)].shape[0] / df.loc[df[\"Embarked\"] == \"Q\"].shape[0],\n",
    ")"
   ]
  },
  {
   "cell_type": "markdown",
   "id": "3885a1b3",
   "metadata": {},
   "source": [
    "For some reason, it seems people who boarded in Cherbourg were considerably more likely to survive the sinking. It is not clear why this is the case, but this feature does seem to be useful so I will leave it as-is.\n",
    "\n",
    "There are some missing values, however. Two options for dealing with this spring to mind initially - either filling these with the modal value, if the number of people boarding at the modal port is significantly higher than elsewhere, or filling these with another value to represent 'unknown'. Let's see how many people boarded at each port:"
   ]
  },
  {
   "cell_type": "code",
   "execution_count": 240,
   "id": "f62bf1e4",
   "metadata": {},
   "outputs": [
    {
     "name": "stdout",
     "output_type": "stream",
     "text": [
      "Southampton embarkation numbers:  644 \n",
      "Cherbourg embarkation numbers:  168 \n",
      "Queenstown embarkation numbers:  77\n"
     ]
    }
   ],
   "source": [
    "print(\n",
    "    \"Southampton embarkation numbers: \", \n",
    "    df.loc[(df[\"Embarked\"] == \"S\")].shape[0], \n",
    "    \"\\nCherbourg embarkation numbers: \",  \n",
    "    df.loc[(df[\"Embarked\"] == \"C\")].shape[0],\n",
    "    \"\\nQueenstown embarkation numbers: \",  \n",
    "    df.loc[(df[\"Embarked\"] == \"Q\")].shape[0]\n",
    ")"
   ]
  },
  {
   "cell_type": "markdown",
   "id": "0e5c1df8",
   "metadata": {},
   "source": [
    "There is a preponderance of passengers boarding in Southampton, and there are only few missing values in the Embarked feature, so we can probably safely fill the missing values with 'S'. Once this is done, we should also label encode this feature."
   ]
  },
  {
   "cell_type": "code",
   "execution_count": 241,
   "id": "c4295938",
   "metadata": {},
   "outputs": [],
   "source": [
    "df_modified[\"Embarked\"].fillna(\"S\")\n",
    "df_modified[\"Embarked\"], _ = df_modified[\"Embarked\"].factorize()\n",
    "\n",
    "add_note(\"Embarked\", \"Use this feature, but fill in missing values with 'S' and label encode the category.\")"
   ]
  },
  {
   "cell_type": "markdown",
   "id": "13400cdb",
   "metadata": {},
   "source": [
    "#### Age\n",
    "Based on the fact that I believe there was a preference for saving children, I am surprised that Age wasn't a stronger predictor. But this might be because beyond a certain age threshold, the relationship of 'younger means more likely to survive' falls away, or even is reversed if elderly passengers were given assistance. Alternatively, the relatively weak performance of the Age feature could be because children were more likely to be helped onto lifeboats, but also more likely to succumb to the cold, for example, or less likely to be able to find their way to the lifeboats if they weren't assisted. Perhaps it would be worth transforming this feature into a categorical one which sorts the passengers into categories like 'child'/'teen'/'adult'/'elderly'? To decide what to do, let's look at survival rate by age:"
   ]
  },
  {
   "cell_type": "code",
   "execution_count": 242,
   "id": "d056185a",
   "metadata": {},
   "outputs": [
    {
     "data": {
      "text/plain": [
       "<AxesSubplot: xlabel='Age', ylabel='Survived'>"
      ]
     },
     "execution_count": 242,
     "metadata": {},
     "output_type": "execute_result"
    },
    {
     "data": {
      "image/png": "[encoded data removed]",
      "text/plain": [
       "<Figure size 1600x600 with 1 Axes>"
      ]
     },
     "metadata": {},
     "output_type": "display_data"
    }
   ],
   "source": [
    "df_age_floor = df.copy()\n",
    "df_age_floor[\"Age\"] = np.floor(df_age_floor[\"Age\"])\n",
    "age_survival_rates = df_age_floor.groupby(\"Age\")[\"Survived\"].sum() / df_age_floor.groupby(\"Age\")[\"Survived\"].count()\n",
    "\n",
    "age_survival_rates = age_survival_rates.rename_axis(\"Age\")\n",
    "\n",
    "sns.regplot(x=age_survival_rates.index, y=age_survival_rates, order=2)"
   ]
  },
  {
   "cell_type": "markdown",
   "id": "9d713342",
   "metadata": {},
   "source": [
    "There does appear to be a relationship, but the data is noisy. Perhaps grouping the ages in ten-year bins would make the relationship clearer:"
   ]
  },
  {
   "cell_type": "code",
   "execution_count": 243,
   "id": "b93b9523",
   "metadata": {},
   "outputs": [
    {
     "data": {
      "text/plain": [
       "<AxesSubplot: xlabel='Age_Bin', ylabel='Survived'>"
      ]
     },
     "execution_count": 243,
     "metadata": {},
     "output_type": "execute_result"
    },
    {
     "data": {
      "image/png": "[encoded data removed]",
      "text/plain": [
       "<Figure size 1600x600 with 1 Axes>"
      ]
     },
     "metadata": {},
     "output_type": "display_data"
    }
   ],
   "source": [
    "bin_list = pd.interval_range(start=0, end=80, freq=10)\n",
    "\n",
    "df_age_test = df_modified.copy()\n",
    "\n",
    "df_age_test[\"Age_Bin\"] = pd.cut(df[\"Age\"], bin_list)\n",
    "\n",
    "age_range_survival_rates = df_age_test.groupby(\"Age_Bin\")[\"Survived\"].sum() / df_age_test.groupby(\"Age_Bin\")[\"Survived\"].count()\n",
    "\n",
    "age_range_survival_rates = age_range_survival_rates.to_frame().reset_index()\n",
    "\n",
    "age_range_survival_rates[\"Age_Bin\"] = age_range_survival_rates[\"Age_Bin\"].map(lambda r: int(str(r).split(\" \")[1][0:-1]))\n",
    "\n",
    "sns.regplot(x=age_range_survival_rates[\"Age_Bin\"], y=age_range_survival_rates[\"Survived\"])"
   ]
  },
  {
   "cell_type": "markdown",
   "id": "89c41d96",
   "metadata": {},
   "source": [
    "This implies that the relationship between age and likelihood of survival is close enough to linear. I had wondered whether the survival rate would be significantly lower in the middle age ranges (30-60) because more vulnerable (younger and older) groups were prioritised, but according to the above, if anything, the reverse is true. There probably therefore isn't a need to change this continuous variable into a categorical one. We can use the Age feature as-is."
   ]
  },
  {
   "cell_type": "code",
   "execution_count": 244,
   "id": "790c96de",
   "metadata": {},
   "outputs": [],
   "source": [
    "add_note(\"Age\", \"Use this feature as-is.\")"
   ]
  },
  {
   "cell_type": "markdown",
   "id": "fe1c242f",
   "metadata": {},
   "source": [
    "#### Presence of family\n",
    "Similarly, I might have expected 'Parch' to be a stronger predictor, as I would have expected parents and children to be given preferential treatment together. But perhaps this isn't strong because the quantity of parents/children doesn't matter, but merely whether the number of parents/children is greater than zero. Perhaps I could try changing this one into a categorical feature.\n",
    "\n",
    "Let's try some visualisations:"
   ]
  },
  {
   "cell_type": "code",
   "execution_count": 245,
   "id": "3124e64e",
   "metadata": {},
   "outputs": [
    {
     "data": {
      "text/plain": [
       "<AxesSubplot: xlabel='Parch', ylabel='Survived'>"
      ]
     },
     "execution_count": 245,
     "metadata": {},
     "output_type": "execute_result"
    },
    {
     "data": {
      "image/png": "[encoded data removed]",
      "text/plain": [
       "<Figure size 1600x600 with 1 Axes>"
      ]
     },
     "metadata": {},
     "output_type": "display_data"
    }
   ],
   "source": [
    "\n",
    "parch_survival_rates = df.groupby(\"Parch\")[\"Survived\"].sum() / df.groupby(\"Parch\")[\"Survived\"].count()\n",
    "sns.lineplot(x=parch_survival_rates.index, y=parch_survival_rates)\n",
    "sibsp_survival_rates = df.groupby(\"SibSp\")[\"Survived\"].sum() / df.groupby(\"SibSp\")[\"Survived\"].count()\n",
    "sns.lineplot(x=sibsp_survival_rates.index, y=sibsp_survival_rates)"
   ]
  },
  {
   "cell_type": "markdown",
   "id": "f4932ee9",
   "metadata": {},
   "source": [
    "There appears to be a pattern whereby small numbers of relatives increase the odds of survival, but greater numbers begin to decrease the odds. The mutual information score was presumably low for this because it would not be possible to predict how many parents/children/siblings/spouses a passenger had based on whether or not they survived, but this might still be a useful feature with the inference going in the other direction. I will try keeping these features as they are."
   ]
  },
  {
   "cell_type": "code",
   "execution_count": 246,
   "id": "c6fb95ce",
   "metadata": {},
   "outputs": [],
   "source": [
    "add_note(\"Parch\", \"Use this feature as-is.\")\n",
    "add_note(\"SibSp\", \"Use this feature as-is.\")"
   ]
  },
  {
   "cell_type": "markdown",
   "id": "3e9f92f4",
   "metadata": {},
   "source": [
    "### Making a pipeline\n",
    "\n",
    "I will now set up a pipeline, using the above decisions about preprocessing, and selecting a machine learning algorithm to use.\n",
    "\n",
    "First, setting up the preprocessor:"
   ]
  },
  {
   "cell_type": "code",
   "execution_count": 247,
   "id": "baf04fc3",
   "metadata": {
    "scrolled": false
   },
   "outputs": [],
   "source": [
    "from sklearn.pipeline import Pipeline, make_pipeline\n",
    "from sklearn.compose import ColumnTransformer\n",
    "from sklearn.preprocessing import FunctionTransformer, StandardScaler, OneHotEncoder\n",
    "from sklearn.impute import SimpleImputer\n",
    "\n",
    "#Tasks for preprocessor:\n",
    "##Drop PassengerId\n",
    "##Drop Name\n",
    "##Label-encode Sex\n",
    "##Fill missing values in Age with the median; scale\n",
    "##Drop Ticket\n",
    "##Replace Cabin and with a feature which characterises the cabin's proximity to the lifeboats \n",
    "##Fill missing values in Embarked with 'S', and label-encode it\n",
    "##Scale the Fare\n",
    "##Keep the remainder of features as they are (Pclass, SibSp, Parch)\n",
    "\n",
    "deck_encoding = {\"A\": 7, \"B\": 6, \"C\": 5, \"D\": 4, \"E\": 3, \"F\": 2, \"G\": 1, \"T\": 8}\n",
    "pclass_deck_encoding = {1: 5.09, 2: 2.85, 3: 2}\n",
    "\n",
    "#Define the special function for transforming the Cabin feature\n",
    "def encode_cabin(df):\n",
    "    rows_count = df.shape[0]\n",
    "    for i in df.index:\n",
    "        if pd.isna(df.loc[i, \"Cabin\"]):\n",
    "            #Where there isn't a cabin number, use the weighted average of decks for the passenger's Pclass\n",
    "            df.loc[i, \"Cabin\"] = pclass_deck_encoding[df.loc[i, \"Pclass\"]]\n",
    "        else:\n",
    "            #Get the letter(s) from the cabin number(s)\n",
    "            cabin_letter_s = \"\"\n",
    "            for c in df.loc[i, \"Cabin\"]:\n",
    "                if c.isalpha():\n",
    "                    if c not in cabin_letter_s:\n",
    "                        cabin_letter_s += c\n",
    "            cabin_letter_s = \"\".join(sorted(cabin_letter_s))\n",
    "            #If the passenger's cabin number(s) mentioned multiple decks, take the average of those\n",
    "            if len(cabin_letter_s) > 1:\n",
    "                sum_of_decks = 0\n",
    "                for letter in cabin_letter_s:\n",
    "                    sum_of_decks += deck_encoding[letter]\n",
    "                df.loc[i, \"Cabin\"] = sum_of_decks / len(cabin_letter_s)\n",
    "            #If all is well and the cabin number mentions a single deck, use the corresponding value of Boat_Proximity\n",
    "            else:\n",
    "                df.loc[i, \"Cabin\"] = deck_encoding[cabin_letter_s]\n",
    "    return df\n",
    "\n",
    "#The preprocessor combines all the tasks listed in the comment above\n",
    "preprocessor = ColumnTransformer(\n",
    "    transformers=[\n",
    "        ('oh_encode', OneHotEncoder(), [\"Sex\"]),\n",
    "        ('fill_and_ohe', make_pipeline(SimpleImputer(strategy=\"most_frequent\"), OneHotEncoder()), [\"Embarked\"]),\n",
    "        ('fill_median', make_pipeline(SimpleImputer(strategy=\"median\"), StandardScaler()), [\"Age\"]),\n",
    "        ('cabin_transform', FunctionTransformer(encode_cabin), [\"Cabin\", \"Pclass\"]),\n",
    "        ('scale', StandardScaler(), [\"Fare\", \"SibSp\", \"Parch\"])\n",
    "    ],\n",
    "    remainder='drop'\n",
    ")"
   ]
  },
  {
   "cell_type": "markdown",
   "id": "0d764dc5",
   "metadata": {},
   "source": [
    "Next, we select the machine learning algorithm to use. Initially, I will try using a random forest. Using this to create the overall pipeline gives:"
   ]
  },
  {
   "cell_type": "code",
   "execution_count": 248,
   "id": "895e5d96",
   "metadata": {},
   "outputs": [],
   "source": [
    "from sklearn.ensemble import RandomForestClassifier\n",
    "\n",
    "model = RandomForestClassifier(n_estimators=100)\n",
    "\n",
    "pipeline = Pipeline(steps=[\n",
    "    ('preprocessor', preprocessor),\n",
    "    ('model', model)\n",
    "])"
   ]
  },
  {
   "cell_type": "markdown",
   "id": "a67b3153",
   "metadata": {},
   "source": [
    "## Cross validation\n",
    "\n",
    "We are working with a small dataset, so it would be wise to use cross-validation."
   ]
  },
  {
   "cell_type": "code",
   "execution_count": 249,
   "id": "97b46b58",
   "metadata": {
    "scrolled": true
   },
   "outputs": [
    {
     "name": "stdout",
     "output_type": "stream",
     "text": [
      "Scores: [0.79888268 0.79775281 0.84831461 0.76404494 0.85955056]; mean is 0.813709120582512\n"
     ]
    }
   ],
   "source": [
    "from sklearn.model_selection import cross_val_score\n",
    "\n",
    "X = df.copy()\n",
    "y = X.pop(\"Survived\")\n",
    "\n",
    "scores = cross_val_score(pipeline, X, y, cv=5, scoring='accuracy')\n",
    "\n",
    "print(\"Scores: \" + str(scores) + \"; mean is \" + str(scores.mean()))"
   ]
  },
  {
   "cell_type": "markdown",
   "id": "215ab0ba",
   "metadata": {},
   "source": [
    "The results of the cross-validation were initially not very good; in fact the mean score over the five subsets of the data was only a bit better than chance. I went back and made some minor changes above - using one-hot encoding for the 'Sex' and 'Embarked' features and scaling a number of the other features. The accuracy is now just over 0.8.\n",
    "\n",
    "Let's have a look at the data after the main preprocessor has been executed:"
   ]
  },
  {
   "cell_type": "code",
   "execution_count": 250,
   "id": "567b3aa8",
   "metadata": {},
   "outputs": [
    {
     "name": "stdout",
     "output_type": "stream",
     "text": [
      "  Female Male Embarked_C Embarked_Q Embarked_S Age_scaled Boat_Proximity  \\\n",
      "0    0.0  1.0        0.0        0.0        1.0  -0.565736              2   \n",
      "1    1.0  0.0        1.0        0.0        0.0   0.663861              5   \n",
      "2    1.0  0.0        0.0        0.0        1.0  -0.258337              2   \n",
      "3    1.0  0.0        0.0        0.0        1.0   0.433312              5   \n",
      "4    0.0  1.0        0.0        0.0        1.0   0.433312              2   \n",
      "\n",
      "  Pclass Fare_scaled SibSp_scaled Parch_scaled  \n",
      "0      3   -0.502445     0.432793    -0.473674  \n",
      "1      1    0.786845     0.432793    -0.473674  \n",
      "2      3   -0.488854    -0.474545    -0.473674  \n",
      "3      1     0.42073     0.432793    -0.473674  \n",
      "4      3   -0.486337    -0.474545    -0.473674  \n"
     ]
    }
   ],
   "source": [
    "X_prep_test_array = preprocessor.fit_transform(X, y)\n",
    "X_prep_test = pd.DataFrame(X_prep_test_array, columns=[\"Female\", \"Male\", \"Embarked_C\", \"Embarked_Q\", \"Embarked_S\", \"Age_scaled\", \"Boat_Proximity\", \"Pclass\", \"Fare_scaled\", \"SibSp_scaled\", \"Parch_scaled\"])\n",
    "\n",
    "print(X_prep_test.head())"
   ]
  },
  {
   "cell_type": "markdown",
   "id": "df7ea585",
   "metadata": {},
   "source": [
    "### Small tweaks\n",
    "\n",
    "I will now try a few further small tweaks to the features:\n",
    "* One-hot encoding Pclass\n",
    "* Scaling the adapted Cabin feature (which now is more of a measure of proximity to lifeboats)\n",
    "* Changing the SibSP and Parch features into (one-hot encoded) categorical ones with three categories based on the chart we looked at above:\n",
    "    * 0: None\n",
    "    * 1-3: A few, which might be helpful, e.g. an adult with a child would be more likely to be offered a space on a lifeboat\n",
    "    * 4+: A lot, which might make it harder to coordinate a response (or which might make it more likely that the people in question were a whole family travelling in third class, which would decrease the likelihood of survival)"
   ]
  },
  {
   "cell_type": "code",
   "execution_count": 251,
   "id": "11d06a4a",
   "metadata": {},
   "outputs": [
    {
     "name": "stdout",
     "output_type": "stream",
     "text": [
      "Scores: [0.75977654 0.78089888 0.84269663 0.78651685 0.83707865]; mean is 0.801393509509761\n"
     ]
    }
   ],
   "source": [
    "def encode_cabin_without_pclass(df):\n",
    "    rows_count = df.shape[0]\n",
    "    for i in df.index:\n",
    "        if pd.isna(df.loc[i, \"Cabin\"]):\n",
    "            #Where there isn't a cabin number, use the weighted average of decks for the passenger's Pclass\n",
    "            df.loc[i, \"Cabin\"] = pclass_deck_encoding[df.loc[i, \"Pclass\"]]\n",
    "        else:\n",
    "            #Get the letter(s) from the cabin number(s)\n",
    "            cabin_letter_s = \"\"\n",
    "            for c in df.loc[i, \"Cabin\"]:\n",
    "                if c.isalpha():\n",
    "                    if c not in cabin_letter_s:\n",
    "                        cabin_letter_s += c\n",
    "            cabin_letter_s = \"\".join(sorted(cabin_letter_s))\n",
    "            #If the passenger's cabin number(s) mentioned multiple decks, take the average of those\n",
    "            if len(cabin_letter_s) > 1:\n",
    "                sum_of_decks = 0\n",
    "                for letter in cabin_letter_s:\n",
    "                    sum_of_decks += deck_encoding[letter]\n",
    "                df.loc[i, \"Cabin\"] = sum_of_decks / len(cabin_letter_s)\n",
    "            #If all is well and the cabin number mentions a single deck, use the corresponding value of Boat_Proximity\n",
    "            else:\n",
    "                df.loc[i, \"Cabin\"] = deck_encoding[cabin_letter_s]\n",
    "    return df.drop([\"Pclass\"], axis=1)\n",
    "\n",
    "def categorise_sibsp_parch(df):\n",
    "    encoding_dict = {0: \"A\", 1: \"B\", 2: \"B\", 3: \"B\", 4: \"C\", 5: \"C\", 6: \"C\", 7: \"C\", 8: \"C\"}\n",
    "    for key in encoding_dict:\n",
    "        df = df.replace(key, encoding_dict[key])\n",
    "    return df\n",
    "\n",
    "preprocessor_2 = ColumnTransformer(\n",
    "    transformers=[\n",
    "        ('oh_encode', OneHotEncoder(), [\"Sex\", \"Pclass\"]),\n",
    "        ('fill_and_ohe', make_pipeline(SimpleImputer(strategy=\"most_frequent\"), OneHotEncoder()), [\"Embarked\"]),\n",
    "        ('fill_median', make_pipeline(SimpleImputer(strategy=\"median\"), StandardScaler()), [\"Age\"]),\n",
    "        ('cabin_transform', make_pipeline(FunctionTransformer(encode_cabin_without_pclass), StandardScaler()), [\"Cabin\", \"Pclass\"]),\n",
    "        ('scale', StandardScaler(), [\"Fare\"]),\n",
    "        ('family', make_pipeline(FunctionTransformer(categorise_sibsp_parch), OneHotEncoder()), [\"SibSp\", \"Parch\"])\n",
    "    ],\n",
    "    remainder='drop'\n",
    ")\n",
    "\n",
    "model_2 = RandomForestClassifier(n_estimators=100)\n",
    "\n",
    "pipeline_2 = Pipeline(steps=[\n",
    "    ('preprocessor_2', preprocessor_2),\n",
    "    ('model_2', model_2)\n",
    "])\n",
    "\n",
    "X = df.copy()\n",
    "y = X.pop(\"Survived\")\n",
    "\n",
    "scores = cross_val_score(pipeline_2, X, y, cv=5, scoring='accuracy')\n",
    "\n",
    "print(\"Scores: \" + str(scores) + \"; mean is \" + str(scores.mean()))"
   ]
  },
  {
   "cell_type": "code",
   "execution_count": 252,
   "id": "04999f4a",
   "metadata": {},
   "outputs": [
    {
     "name": "stdout",
     "output_type": "stream",
     "text": [
      "   Female  Male  Embarked_C  Embarked_Q  Embarked_S  Pclass_1  Pclass_2  \\\n",
      "0     0.0   1.0         0.0         0.0         1.0       0.0       0.0   \n",
      "1     1.0   0.0         1.0         0.0         0.0       1.0       0.0   \n",
      "2     1.0   0.0         0.0         0.0         1.0       0.0       0.0   \n",
      "3     1.0   0.0         1.0         0.0         0.0       0.0       0.0   \n",
      "4     0.0   1.0         0.0         0.0         1.0       0.0       0.0   \n",
      "\n",
      "   Pclass_3  Age_scaled  Boat_Proximity_scaled  Fare_scaled  SibSp_0  \\\n",
      "0       1.0   -0.565736              -0.666621    -0.502445      0.0   \n",
      "1       0.0    0.663861               1.545792     0.786845      0.0   \n",
      "2       1.0   -0.258337              -0.666621    -0.488854      1.0   \n",
      "3       1.0    0.433312               1.545792     0.420730      0.0   \n",
      "4       1.0    0.433312              -0.666621    -0.486337      1.0   \n",
      "\n",
      "   SibSp_1-3  SibSp_4+  Parch_0  Parch_1-3  Parch_4+  \n",
      "0        1.0       0.0      1.0        0.0       0.0  \n",
      "1        1.0       0.0      1.0        0.0       0.0  \n",
      "2        0.0       0.0      1.0        0.0       0.0  \n",
      "3        1.0       0.0      1.0        0.0       0.0  \n",
      "4        0.0       0.0      1.0        0.0       0.0  \n"
     ]
    }
   ],
   "source": [
    "X_prep_test_array = preprocessor_2.fit_transform(X, y)\n",
    "X_prep_test = pd.DataFrame(X_prep_test_array, columns=[\"Female\", \"Male\", \"Embarked_C\", \"Embarked_Q\", \"Embarked_S\", \"Pclass_1\", \"Pclass_2\", \"Pclass_3\", \"Age_scaled\", \"Boat_Proximity_scaled\", \"Fare_scaled\", \"SibSp_0\", \"SibSp_1-3\", \"SibSp_4+\", \"Parch_0\", \"Parch_1-3\", \"Parch_4+\"])\n",
    "\n",
    "print(X_prep_test.head())"
   ]
  },
  {
   "cell_type": "markdown",
   "id": "1f880d3e",
   "metadata": {},
   "source": [
    "These changes haven't made an appreciable difference to the mean score. Running both versions multiple times, the scores I get are:\n",
    "\n",
    "| Version 1 | Version 2 |\n",
    "| --------------- | ------------ |\n",
    "| 0.8159751428033394 | 0.8070052099679869 |\n",
    "| 0.8103508882053857 | 0.7957692549118072 |\n",
    "| 0.8103634423451134 | 0.8036281463812692 |\n",
    "\n",
    "It appears that the original version is very slightly superior.\n",
    "\n",
    "One further thing to look at is the Fare feature, which has some extreme outliers."
   ]
  },
  {
   "cell_type": "code",
   "execution_count": 253,
   "id": "0727185b",
   "metadata": {},
   "outputs": [
    {
     "data": {
      "text/html": [
       "<div>\n",
       "<style scoped>\n",
       "    .dataframe tbody tr th:only-of-type {\n",
       "        vertical-align: middle;\n",
       "    }\n",
       "\n",
       "    .dataframe tbody tr th {\n",
       "        vertical-align: top;\n",
       "    }\n",
       "\n",
       "    .dataframe thead th {\n",
       "        text-align: right;\n",
       "    }\n",
       "</style>\n",
       "<table border=\"1\" class=\"dataframe\">\n",
       "  <thead>\n",
       "    <tr style=\"text-align: right;\">\n",
       "      <th></th>\n",
       "      <th>PassengerId</th>\n",
       "      <th>Survived</th>\n",
       "      <th>Pclass</th>\n",
       "      <th>Name</th>\n",
       "      <th>Sex</th>\n",
       "      <th>Age</th>\n",
       "      <th>SibSp</th>\n",
       "      <th>Parch</th>\n",
       "      <th>Ticket</th>\n",
       "      <th>Fare</th>\n",
       "      <th>Cabin</th>\n",
       "      <th>Embarked</th>\n",
       "    </tr>\n",
       "  </thead>\n",
       "  <tbody>\n",
       "    <tr>\n",
       "      <th>258</th>\n",
       "      <td>259</td>\n",
       "      <td>1</td>\n",
       "      <td>1</td>\n",
       "      <td>Ward, Miss. Anna</td>\n",
       "      <td>female</td>\n",
       "      <td>35.0</td>\n",
       "      <td>0</td>\n",
       "      <td>0</td>\n",
       "      <td>PC 17755</td>\n",
       "      <td>512.3292</td>\n",
       "      <td>NaN</td>\n",
       "      <td>C</td>\n",
       "    </tr>\n",
       "    <tr>\n",
       "      <th>737</th>\n",
       "      <td>738</td>\n",
       "      <td>1</td>\n",
       "      <td>1</td>\n",
       "      <td>Lesurer, Mr. Gustave J</td>\n",
       "      <td>male</td>\n",
       "      <td>35.0</td>\n",
       "      <td>0</td>\n",
       "      <td>0</td>\n",
       "      <td>PC 17755</td>\n",
       "      <td>512.3292</td>\n",
       "      <td>B101</td>\n",
       "      <td>C</td>\n",
       "    </tr>\n",
       "    <tr>\n",
       "      <th>679</th>\n",
       "      <td>680</td>\n",
       "      <td>1</td>\n",
       "      <td>1</td>\n",
       "      <td>Cardeza, Mr. Thomas Drake Martinez</td>\n",
       "      <td>male</td>\n",
       "      <td>36.0</td>\n",
       "      <td>0</td>\n",
       "      <td>1</td>\n",
       "      <td>PC 17755</td>\n",
       "      <td>512.3292</td>\n",
       "      <td>B51 B53 B55</td>\n",
       "      <td>C</td>\n",
       "    </tr>\n",
       "    <tr>\n",
       "      <th>88</th>\n",
       "      <td>89</td>\n",
       "      <td>1</td>\n",
       "      <td>1</td>\n",
       "      <td>Fortune, Miss. Mabel Helen</td>\n",
       "      <td>female</td>\n",
       "      <td>23.0</td>\n",
       "      <td>3</td>\n",
       "      <td>2</td>\n",
       "      <td>19950</td>\n",
       "      <td>263.0000</td>\n",
       "      <td>C23 C25 C27</td>\n",
       "      <td>S</td>\n",
       "    </tr>\n",
       "    <tr>\n",
       "      <th>27</th>\n",
       "      <td>28</td>\n",
       "      <td>0</td>\n",
       "      <td>1</td>\n",
       "      <td>Fortune, Mr. Charles Alexander</td>\n",
       "      <td>male</td>\n",
       "      <td>19.0</td>\n",
       "      <td>3</td>\n",
       "      <td>2</td>\n",
       "      <td>19950</td>\n",
       "      <td>263.0000</td>\n",
       "      <td>C23 C25 C27</td>\n",
       "      <td>S</td>\n",
       "    </tr>\n",
       "  </tbody>\n",
       "</table>\n",
       "</div>"
      ],
      "text/plain": [
       "     PassengerId  Survived  Pclass                                Name  \\\n",
       "258          259         1       1                    Ward, Miss. Anna   \n",
       "737          738         1       1              Lesurer, Mr. Gustave J   \n",
       "679          680         1       1  Cardeza, Mr. Thomas Drake Martinez   \n",
       "88            89         1       1          Fortune, Miss. Mabel Helen   \n",
       "27            28         0       1      Fortune, Mr. Charles Alexander   \n",
       "\n",
       "        Sex   Age  SibSp  Parch    Ticket      Fare        Cabin Embarked  \n",
       "258  female  35.0      0      0  PC 17755  512.3292          NaN        C  \n",
       "737    male  35.0      0      0  PC 17755  512.3292         B101        C  \n",
       "679    male  36.0      0      1  PC 17755  512.3292  B51 B53 B55        C  \n",
       "88   female  23.0      3      2     19950  263.0000  C23 C25 C27        S  \n",
       "27     male  19.0      3      2     19950  263.0000  C23 C25 C27        S  "
      ]
     },
     "execution_count": 253,
     "metadata": {},
     "output_type": "execute_result"
    }
   ],
   "source": [
    "df_by_fare = df.sort_values(\"Fare\", ascending=False)\n",
    "df_by_fare.head()"
   ]
  },
  {
   "cell_type": "markdown",
   "id": "77df9395",
   "metadata": {},
   "source": [
    "Three passengers appear to have each paid almost twice as much as the next person down in the list. I have looked up information about these specific passengers and it appears they were travelling together. This aligns with the fact that they all have the same ticket number. This suggests that the Fare feature is not describing how much each individual passenger paid, but how much was paid for the whole booking under that ticket number.\n",
    "\n",
    "Therefore, to make the Fare feature more useful, we should divide it by the number of rows which have the corresponding ticket number."
   ]
  },
  {
   "cell_type": "code",
   "execution_count": 254,
   "id": "81823957",
   "metadata": {},
   "outputs": [
    {
     "name": "stdout",
     "output_type": "stream",
     "text": [
      "Scores: [0.77653631 0.81460674 0.80898876 0.78089888 0.8258427 ]; mean is 0.8013746783001695\n"
     ]
    }
   ],
   "source": [
    "def divide_fares(df):\n",
    "    #Divide the fare by the number of passengers on the same ticket number\n",
    "    df[\"pax_on_bkng\"] = df.groupby(\"Ticket\")[\"Ticket\"].transform(\"count\")\n",
    "    df[\"Fare\"] = df[\"Fare\"] / df[\"pax_on_bkng\"]\n",
    "    #Fill in missing values with the mean paid in the relevant class\n",
    "    df[\"mean_fare_by_pclass\"] = df.groupby(\"Pclass\")[\"Fare\"].transform(\"mean\")\n",
    "    df[\"Fare\"] = df[\"Fare\"].fillna(df[\"mean_fare_by_pclass\"])\n",
    "    #Drop the columns that were used as inputs or intermediate calculation steps, then return the result\n",
    "    return df.drop([\"Ticket\", \"pax_on_bkng\", \"Pclass\", \"mean_fare_by_pclass\"], axis=1)\n",
    "    \n",
    "preprocessor_3 = ColumnTransformer(\n",
    "    transformers=[\n",
    "        ('oh_encode', OneHotEncoder(), [\"Sex\"]),\n",
    "        ('fill_and_ohe', make_pipeline(SimpleImputer(strategy=\"most_frequent\"), OneHotEncoder()), [\"Embarked\"]),\n",
    "        ('fill_median', make_pipeline(SimpleImputer(strategy=\"median\"), StandardScaler()), [\"Age\"]),\n",
    "        ('cabin_transform', FunctionTransformer(encode_cabin), [\"Cabin\", \"Pclass\"]),\n",
    "        ('fare_division_scale', make_pipeline(FunctionTransformer(divide_fares), StandardScaler()), [\"Fare\", \"Ticket\", \"Pclass\"]),\n",
    "        ('scale', StandardScaler(), [\"SibSp\", \"Parch\"])\n",
    "    ],\n",
    "    remainder='drop'\n",
    ")\n",
    "\n",
    "model_3 = RandomForestClassifier(n_estimators=100)\n",
    "\n",
    "pipeline_3 = Pipeline(steps=[\n",
    "    ('preprocessor_3', preprocessor_3),\n",
    "    ('model_3', model_3)\n",
    "])\n",
    "\n",
    "X = df.copy()\n",
    "y = X.pop(\"Survived\")\n",
    "\n",
    "scores = cross_val_score(pipeline_3, X, y, cv=5, scoring='accuracy')\n",
    "\n",
    "print(\"Scores: \" + str(scores) + \"; mean is \" + str(scores.mean()))"
   ]
  },
  {
   "cell_type": "markdown",
   "id": "d875baab",
   "metadata": {},
   "source": [
    "This change has not made a big difference - if anything, it actually appears to have decreased the cross-validation scores very slightly. I wonder if this is because, previously, the extreme outliers on the Fare feature all happened to be survivors, which might have led to a slight overfitting on the Fare feature based on this dataset. Certainly, dividing the fare out based on ticket number makes the fare a more 'physical' quantity, so I will keep this change despite the apparent (slight) negative effect on the score.\n",
    "\n",
    "If we look at a boxenplot using the new fare feature, the relationship between fare and survival likelihood is more visible than in the same plot earlier in the notebook:"
   ]
  },
  {
   "cell_type": "code",
   "execution_count": 255,
   "id": "06bbf7a0",
   "metadata": {},
   "outputs": [
    {
     "data": {
      "text/plain": [
       "<AxesSubplot: xlabel='Survived', ylabel='Fare'>"
      ]
     },
     "execution_count": 255,
     "metadata": {},
     "output_type": "execute_result"
    },
    {
     "data": {
      "image/png": "[encoded data removed]",
      "text/plain": [
       "<Figure size 1600x600 with 1 Axes>"
      ]
     },
     "metadata": {},
     "output_type": "display_data"
    }
   ],
   "source": [
    "df_fare_test = df.copy()\n",
    "df_fare_test[\"pax_on_bkng\"] = df_fare_test.groupby(\"Ticket\")[\"Ticket\"].transform(\"count\")\n",
    "df_fare_test[\"Fare\"] = df_fare_test[\"Fare\"] / df_fare_test[\"pax_on_bkng\"]\n",
    "\n",
    "sns.boxenplot(x=df_fare_test[\"Survived\"], y=df_fare_test[\"Fare\"])"
   ]
  },
  {
   "cell_type": "code",
   "execution_count": 256,
   "id": "0c5d0eba",
   "metadata": {},
   "outputs": [
    {
     "name": "stdout",
     "output_type": "stream",
     "text": [
      "  Female Male Embarked_C Embarked_Q Embarked_S Age_scaled Boat_Proximity  \\\n",
      "0    0.0  1.0        0.0        0.0        1.0  -0.565736              2   \n",
      "1    1.0  0.0        1.0        0.0        0.0   0.663861              5   \n",
      "2    1.0  0.0        0.0        0.0        1.0  -0.258337              2   \n",
      "3    1.0  0.0        0.0        0.0        1.0   0.433312              5   \n",
      "4    0.0  1.0        0.0        0.0        1.0   0.433312              2   \n",
      "\n",
      "  Pclass Fare_scaled SibSp_scaled Parch_scaled  \n",
      "0      3   -0.496976     0.432793    -0.473674  \n",
      "1      1    2.522573     0.432793    -0.473674  \n",
      "2      3   -0.465145    -0.474545    -0.473674  \n",
      "3      1    0.413134     0.432793    -0.473674  \n",
      "4      3   -0.459251    -0.474545    -0.473674  \n"
     ]
    }
   ],
   "source": [
    "X_prep_test_array = preprocessor_3.fit_transform(X, y)\n",
    "X_prep_test = pd.DataFrame(X_prep_test_array, columns=[\"Female\", \"Male\", \"Embarked_C\", \"Embarked_Q\", \"Embarked_S\", \"Age_scaled\", \"Boat_Proximity\", \"Pclass\", \"Fare_scaled\", \"SibSp_scaled\", \"Parch_scaled\"])\n",
    "\n",
    "print(X_prep_test.head())"
   ]
  },
  {
   "cell_type": "markdown",
   "id": "cfb9627e",
   "metadata": {},
   "source": [
    "None of these last changes to features have made a big difference, so for now I will settle on this set of features and look at algorithm choices and hyperparameter tuning."
   ]
  },
  {
   "cell_type": "markdown",
   "id": "795d9b67",
   "metadata": {},
   "source": [
    "## Model choice and tuning\n",
    "\n",
    "Top choices of model for binary targets include:\n",
    "* Naive Bayes\n",
    "* Logistic regression\n",
    "* K-Nearest neighbours\n",
    "* Support vector machine\n",
    "* Random forest classifier\n",
    "\n",
    "To quickly test these, I will do a train/test split of the data and run each model on the test data:"
   ]
  },
  {
   "cell_type": "code",
   "execution_count": 258,
   "id": "c2ffff5b",
   "metadata": {},
   "outputs": [],
   "source": [
    "#Changing the scalers to avoid negative values which are incompatible with MultinomialNB\n",
    "preprocessor_4 = ColumnTransformer(\n",
    "    transformers=[\n",
    "        ('oh_encode', OneHotEncoder(), [\"Sex\"]),\n",
    "        ('fill_and_ohe', make_pipeline(SimpleImputer(strategy=\"most_frequent\"), OneHotEncoder()), [\"Embarked\"]),\n",
    "        ('fill_median', make_pipeline(SimpleImputer(strategy=\"median\"), StandardScaler(with_mean=False)), [\"Age\"]),\n",
    "        ('cabin_transform', FunctionTransformer(encode_cabin), [\"Cabin\", \"Pclass\"]),\n",
    "        ('fare_division_scale', make_pipeline(FunctionTransformer(divide_fares), StandardScaler(with_mean=False)), [\"Fare\", \"Ticket\", \"Pclass\"]),\n",
    "        ('scale', StandardScaler(with_mean=False), [\"SibSp\", \"Parch\"])\n",
    "    ],\n",
    "    remainder='drop'\n",
    ")\n",
    "\n",
    "from sklearn.model_selection import train_test_split\n",
    "X = df.copy()\n",
    "y = X.pop(\"Survived\")\n",
    "X_train, X_test, y_train, y_test = train_test_split(X, y, test_size=0.25, random_state=0)\n",
    "X_train = preprocessor_4.fit_transform(X_train, y_train)\n",
    "X_test = preprocessor_4.fit_transform(X_test, y_test)\n",
    "\n",
    "X_train_df = pd.DataFrame(X_train, columns=[\"Female\", \"Male\", \"Embarked_C\", \"Embarked_Q\", \"Embarked_S\", \"Age_scaled\", \"Boat_Proximity\", \"Pclass\", \"Fare_scaled\", \"SibSp_scaled\", \"Parch_scaled\"])\n",
    "X_test_df = pd.DataFrame(X_test, columns=[\"Female\", \"Male\", \"Embarked_C\", \"Embarked_Q\", \"Embarked_S\", \"Age_scaled\", \"Boat_Proximity\", \"Pclass\", \"Fare_scaled\", \"SibSp_scaled\", \"Parch_scaled\"])\n",
    "\n",
    "#X_train_df.head()\n",
    "#X_test_df.head()"
   ]
  },
  {
   "cell_type": "code",
   "execution_count": 259,
   "id": "3a8c667b",
   "metadata": {},
   "outputs": [
    {
     "name": "stderr",
     "output_type": "stream",
     "text": [
      "C:\\Users\\arthu\\AppData\\Local\\Programs\\Python\\Python311\\Lib\\site-packages\\sklearn\\svm\\_base.py:1225: ConvergenceWarning: Liblinear failed to converge, increase the number of iterations.\n",
      "  warnings.warn(\n"
     ]
    },
    {
     "name": "stdout",
     "output_type": "stream",
     "text": [
      "Scores: \n",
      "Naive Bayes: 0.7937219730941704\n",
      "Logistic regression: 0.8161434977578476\n",
      "K-Nearest neighbours: 0.7982062780269058\n",
      "Support vector machine: 0.7892376681614349\n",
      "Random Forest: 0.7802690582959642\n"
     ]
    }
   ],
   "source": [
    "from sklearn.naive_bayes import MultinomialNB\n",
    "mnb = MultinomialNB()\n",
    "mnb.fit(X_train, y_train)\n",
    "mnb_score = mnb.score(X_test, y_test)\n",
    "\n",
    "from sklearn.linear_model import LogisticRegression\n",
    "lr=LogisticRegression()\n",
    "lr.fit(X_train, y_train)\n",
    "lr_score = lr.score(X_test, y_test)\n",
    "\n",
    "from sklearn.neighbors import KNeighborsClassifier\n",
    "knn = KNeighborsClassifier()\n",
    "knn.fit(X_train, y_train)\n",
    "knn_score = knn.score(X_test, y_test)\n",
    "\n",
    "from sklearn.svm import LinearSVC\n",
    "svm=LinearSVC(max_iter=2000)\n",
    "svm.fit(X_train, y_train)\n",
    "svm_score = svm.score(X_test, y_test)\n",
    "\n",
    "from sklearn.ensemble import RandomForestClassifier\n",
    "rf = RandomForestClassifier(n_estimators=2000)\n",
    "rf.fit(X_train, y_train)\n",
    "rf_score = rf.score(X_test, y_test)\n",
    "\n",
    "print(\"Scores: \"\n",
    "      + \"\\nNaive Bayes: \" + str(mnb_score)\n",
    "      + \"\\nLogistic regression: \" + str(lr_score)\n",
    "      + \"\\nK-Nearest neighbours: \" + str(knn_score)\n",
    "      + \"\\nSupport vector machine: \" + str(svm_score)\n",
    "      + \"\\nRandom Forest: \" + str(rf_score))"
   ]
  },
  {
   "cell_type": "markdown",
   "id": "79efb976",
   "metadata": {},
   "source": [
    "Alternatively, since the dataset is small, we could try using an ensemble made up of all of these:"
   ]
  },
  {
   "cell_type": "code",
   "execution_count": 260,
   "id": "cd61e7ae",
   "metadata": {},
   "outputs": [
    {
     "name": "stderr",
     "output_type": "stream",
     "text": [
      "C:\\Users\\arthu\\AppData\\Local\\Programs\\Python\\Python311\\Lib\\site-packages\\sklearn\\svm\\_base.py:1225: ConvergenceWarning: Liblinear failed to converge, increase the number of iterations.\n",
      "  warnings.warn(\n"
     ]
    },
    {
     "name": "stdout",
     "output_type": "stream",
     "text": [
      "evc score: 0.7847533632286996\n"
     ]
    }
   ],
   "source": [
    "from sklearn.ensemble import VotingClassifier\n",
    "\n",
    "evc = VotingClassifier(estimators=[('mnb',mnb),('lr',lr),('knn',knn),('rf',rf),('svm',svm)],voting='hard')\n",
    "evc.fit(X_train, y_train)\n",
    "evc_score = evc.score(X_test, y_test)\n",
    "\n",
    "print(\"evc score: \" + str(evc_score))"
   ]
  },
  {
   "cell_type": "markdown",
   "id": "71f2998c",
   "metadata": {},
   "source": [
    "It appears the best option is the logistic regression algorithm, so I will attempt some hyperparameter tuning with that."
   ]
  },
  {
   "cell_type": "markdown",
   "id": "1fdc6f2c",
   "metadata": {},
   "source": [
    "### Hyperparameter tuning\n",
    "\n",
    "The parameters we can adjust within the logistic regression algorithm are:\n",
    "\n",
    "* solver\n",
    "    ‘newton-cg’, ‘lbfgs’, ‘liblinear’, ‘sag’, ‘saga’\n",
    "* max_iter\n",
    "    default is 100"
   ]
  },
  {
   "cell_type": "code",
   "execution_count": 261,
   "id": "9c875ebb",
   "metadata": {},
   "outputs": [
    {
     "name": "stderr",
     "output_type": "stream",
     "text": [
      "C:\\Users\\arthu\\AppData\\Local\\Programs\\Python\\Python311\\Lib\\site-packages\\sklearn\\linear_model\\_sag.py:350: ConvergenceWarning: The max_iter was reached which means the coef_ did not converge\n",
      "  warnings.warn(\n",
      "C:\\Users\\arthu\\AppData\\Local\\Programs\\Python\\Python311\\Lib\\site-packages\\sklearn\\linear_model\\_sag.py:350: ConvergenceWarning: The max_iter was reached which means the coef_ did not converge\n",
      "  warnings.warn(\n",
      "C:\\Users\\arthu\\AppData\\Local\\Programs\\Python\\Python311\\Lib\\site-packages\\sklearn\\linear_model\\_sag.py:350: ConvergenceWarning: The max_iter was reached which means the coef_ did not converge\n",
      "  warnings.warn(\n",
      "C:\\Users\\arthu\\AppData\\Local\\Programs\\Python\\Python311\\Lib\\site-packages\\sklearn\\linear_model\\_sag.py:350: ConvergenceWarning: The max_iter was reached which means the coef_ did not converge\n",
      "  warnings.warn(\n",
      "C:\\Users\\arthu\\AppData\\Local\\Programs\\Python\\Python311\\Lib\\site-packages\\sklearn\\linear_model\\_sag.py:350: ConvergenceWarning: The max_iter was reached which means the coef_ did not converge\n",
      "  warnings.warn(\n",
      "C:\\Users\\arthu\\AppData\\Local\\Programs\\Python\\Python311\\Lib\\site-packages\\sklearn\\linear_model\\_sag.py:350: ConvergenceWarning: The max_iter was reached which means the coef_ did not converge\n",
      "  warnings.warn(\n",
      "C:\\Users\\arthu\\AppData\\Local\\Programs\\Python\\Python311\\Lib\\site-packages\\sklearn\\linear_model\\_sag.py:350: ConvergenceWarning: The max_iter was reached which means the coef_ did not converge\n",
      "  warnings.warn(\n"
     ]
    },
    {
     "data": {
      "text/html": [
       "<div>\n",
       "<style scoped>\n",
       "    .dataframe tbody tr th:only-of-type {\n",
       "        vertical-align: middle;\n",
       "    }\n",
       "\n",
       "    .dataframe tbody tr th {\n",
       "        vertical-align: top;\n",
       "    }\n",
       "\n",
       "    .dataframe thead th {\n",
       "        text-align: right;\n",
       "    }\n",
       "</style>\n",
       "<table border=\"1\" class=\"dataframe\">\n",
       "  <thead>\n",
       "    <tr style=\"text-align: right;\">\n",
       "      <th></th>\n",
       "      <th>solver</th>\n",
       "      <th>max_iter</th>\n",
       "      <th>score</th>\n",
       "      <th>running_time</th>\n",
       "    </tr>\n",
       "  </thead>\n",
       "  <tbody>\n",
       "    <tr>\n",
       "      <th>0</th>\n",
       "      <td>newton-cg</td>\n",
       "      <td>50</td>\n",
       "      <td>0.816143</td>\n",
       "      <td>7981</td>\n",
       "    </tr>\n",
       "    <tr>\n",
       "      <th>1</th>\n",
       "      <td>newton-cg</td>\n",
       "      <td>100</td>\n",
       "      <td>0.816143</td>\n",
       "      <td>12028</td>\n",
       "    </tr>\n",
       "    <tr>\n",
       "      <th>2</th>\n",
       "      <td>newton-cg</td>\n",
       "      <td>200</td>\n",
       "      <td>0.816143</td>\n",
       "      <td>8000</td>\n",
       "    </tr>\n",
       "    <tr>\n",
       "      <th>3</th>\n",
       "      <td>newton-cg</td>\n",
       "      <td>400</td>\n",
       "      <td>0.816143</td>\n",
       "      <td>8001</td>\n",
       "    </tr>\n",
       "    <tr>\n",
       "      <th>4</th>\n",
       "      <td>newton-cg</td>\n",
       "      <td>800</td>\n",
       "      <td>0.816143</td>\n",
       "      <td>8000</td>\n",
       "    </tr>\n",
       "    <tr>\n",
       "      <th>5</th>\n",
       "      <td>newton-cg</td>\n",
       "      <td>1600</td>\n",
       "      <td>0.816143</td>\n",
       "      <td>4000</td>\n",
       "    </tr>\n",
       "    <tr>\n",
       "      <th>6</th>\n",
       "      <td>lbfgs</td>\n",
       "      <td>50</td>\n",
       "      <td>0.816143</td>\n",
       "      <td>12058</td>\n",
       "    </tr>\n",
       "    <tr>\n",
       "      <th>7</th>\n",
       "      <td>lbfgs</td>\n",
       "      <td>100</td>\n",
       "      <td>0.816143</td>\n",
       "      <td>16123</td>\n",
       "    </tr>\n",
       "    <tr>\n",
       "      <th>8</th>\n",
       "      <td>lbfgs</td>\n",
       "      <td>200</td>\n",
       "      <td>0.816143</td>\n",
       "      <td>11994</td>\n",
       "    </tr>\n",
       "    <tr>\n",
       "      <th>9</th>\n",
       "      <td>lbfgs</td>\n",
       "      <td>400</td>\n",
       "      <td>0.816143</td>\n",
       "      <td>11999</td>\n",
       "    </tr>\n",
       "    <tr>\n",
       "      <th>10</th>\n",
       "      <td>lbfgs</td>\n",
       "      <td>800</td>\n",
       "      <td>0.816143</td>\n",
       "      <td>7991</td>\n",
       "    </tr>\n",
       "    <tr>\n",
       "      <th>11</th>\n",
       "      <td>lbfgs</td>\n",
       "      <td>1600</td>\n",
       "      <td>0.816143</td>\n",
       "      <td>8560</td>\n",
       "    </tr>\n",
       "    <tr>\n",
       "      <th>12</th>\n",
       "      <td>liblinear</td>\n",
       "      <td>50</td>\n",
       "      <td>0.798206</td>\n",
       "      <td>0</td>\n",
       "    </tr>\n",
       "    <tr>\n",
       "      <th>13</th>\n",
       "      <td>liblinear</td>\n",
       "      <td>100</td>\n",
       "      <td>0.798206</td>\n",
       "      <td>0</td>\n",
       "    </tr>\n",
       "    <tr>\n",
       "      <th>14</th>\n",
       "      <td>liblinear</td>\n",
       "      <td>200</td>\n",
       "      <td>0.798206</td>\n",
       "      <td>4005</td>\n",
       "    </tr>\n",
       "    <tr>\n",
       "      <th>15</th>\n",
       "      <td>liblinear</td>\n",
       "      <td>400</td>\n",
       "      <td>0.798206</td>\n",
       "      <td>0</td>\n",
       "    </tr>\n",
       "    <tr>\n",
       "      <th>16</th>\n",
       "      <td>liblinear</td>\n",
       "      <td>800</td>\n",
       "      <td>0.798206</td>\n",
       "      <td>0</td>\n",
       "    </tr>\n",
       "    <tr>\n",
       "      <th>17</th>\n",
       "      <td>liblinear</td>\n",
       "      <td>1600</td>\n",
       "      <td>0.798206</td>\n",
       "      <td>4000</td>\n",
       "    </tr>\n",
       "    <tr>\n",
       "      <th>18</th>\n",
       "      <td>sag</td>\n",
       "      <td>50</td>\n",
       "      <td>0.802691</td>\n",
       "      <td>3999</td>\n",
       "    </tr>\n",
       "    <tr>\n",
       "      <th>19</th>\n",
       "      <td>sag</td>\n",
       "      <td>100</td>\n",
       "      <td>0.802691</td>\n",
       "      <td>12095</td>\n",
       "    </tr>\n",
       "    <tr>\n",
       "      <th>20</th>\n",
       "      <td>sag</td>\n",
       "      <td>200</td>\n",
       "      <td>0.816143</td>\n",
       "      <td>20043</td>\n",
       "    </tr>\n",
       "    <tr>\n",
       "      <th>21</th>\n",
       "      <td>sag</td>\n",
       "      <td>400</td>\n",
       "      <td>0.816143</td>\n",
       "      <td>59509</td>\n",
       "    </tr>\n",
       "    <tr>\n",
       "      <th>22</th>\n",
       "      <td>sag</td>\n",
       "      <td>800</td>\n",
       "      <td>0.816143</td>\n",
       "      <td>72086</td>\n",
       "    </tr>\n",
       "    <tr>\n",
       "      <th>23</th>\n",
       "      <td>sag</td>\n",
       "      <td>1600</td>\n",
       "      <td>0.816143</td>\n",
       "      <td>85258</td>\n",
       "    </tr>\n",
       "    <tr>\n",
       "      <th>24</th>\n",
       "      <td>saga</td>\n",
       "      <td>50</td>\n",
       "      <td>0.798206</td>\n",
       "      <td>8005</td>\n",
       "    </tr>\n",
       "    <tr>\n",
       "      <th>25</th>\n",
       "      <td>saga</td>\n",
       "      <td>100</td>\n",
       "      <td>0.798206</td>\n",
       "      <td>15977</td>\n",
       "    </tr>\n",
       "    <tr>\n",
       "      <th>26</th>\n",
       "      <td>saga</td>\n",
       "      <td>200</td>\n",
       "      <td>0.802691</td>\n",
       "      <td>24000</td>\n",
       "    </tr>\n",
       "    <tr>\n",
       "      <th>27</th>\n",
       "      <td>saga</td>\n",
       "      <td>400</td>\n",
       "      <td>0.816143</td>\n",
       "      <td>60230</td>\n",
       "    </tr>\n",
       "    <tr>\n",
       "      <th>28</th>\n",
       "      <td>saga</td>\n",
       "      <td>800</td>\n",
       "      <td>0.816143</td>\n",
       "      <td>68089</td>\n",
       "    </tr>\n",
       "    <tr>\n",
       "      <th>29</th>\n",
       "      <td>saga</td>\n",
       "      <td>1600</td>\n",
       "      <td>0.816143</td>\n",
       "      <td>89488</td>\n",
       "    </tr>\n",
       "  </tbody>\n",
       "</table>\n",
       "</div>"
      ],
      "text/plain": [
       "       solver  max_iter     score  running_time\n",
       "0   newton-cg        50  0.816143          7981\n",
       "1   newton-cg       100  0.816143         12028\n",
       "2   newton-cg       200  0.816143          8000\n",
       "3   newton-cg       400  0.816143          8001\n",
       "4   newton-cg       800  0.816143          8000\n",
       "5   newton-cg      1600  0.816143          4000\n",
       "6       lbfgs        50  0.816143         12058\n",
       "7       lbfgs       100  0.816143         16123\n",
       "8       lbfgs       200  0.816143         11994\n",
       "9       lbfgs       400  0.816143         11999\n",
       "10      lbfgs       800  0.816143          7991\n",
       "11      lbfgs      1600  0.816143          8560\n",
       "12  liblinear        50  0.798206             0\n",
       "13  liblinear       100  0.798206             0\n",
       "14  liblinear       200  0.798206          4005\n",
       "15  liblinear       400  0.798206             0\n",
       "16  liblinear       800  0.798206             0\n",
       "17  liblinear      1600  0.798206          4000\n",
       "18        sag        50  0.802691          3999\n",
       "19        sag       100  0.802691         12095\n",
       "20        sag       200  0.816143         20043\n",
       "21        sag       400  0.816143         59509\n",
       "22        sag       800  0.816143         72086\n",
       "23        sag      1600  0.816143         85258\n",
       "24       saga        50  0.798206          8005\n",
       "25       saga       100  0.798206         15977\n",
       "26       saga       200  0.802691         24000\n",
       "27       saga       400  0.816143         60230\n",
       "28       saga       800  0.816143         68089\n",
       "29       saga      1600  0.816143         89488"
      ]
     },
     "execution_count": 261,
     "metadata": {},
     "output_type": "execute_result"
    }
   ],
   "source": [
    "from datetime import datetime as dt\n",
    "\n",
    "lr_scores = {\"solver\": [], \"max_iter\": [], \"score\": [], \"running_time\": []}\n",
    "\n",
    "solvers = [\"newton-cg\", \"lbfgs\", \"liblinear\", \"sag\", \"saga\"]\n",
    "\n",
    "for s in solvers:\n",
    "    for n in [50, 100, 200, 400, 800, 1600]:\n",
    "        start = dt.now()\n",
    "        l=LogisticRegression(solver=s, max_iter=n)\n",
    "        l.fit(X_train, y_train)\n",
    "        lr_scores[\"score\"].append(l.score(X_test, y_test))\n",
    "        lr_scores[\"solver\"].append(s)\n",
    "        lr_scores[\"max_iter\"].append(n)\n",
    "        lr_scores[\"running_time\"].append((dt.now() - start).microseconds)\n",
    "        \n",
    "lr_scores = pd.DataFrame(lr_scores)\n",
    "\n",
    "lr_scores"
   ]
  },
  {
   "cell_type": "code",
   "execution_count": 262,
   "id": "f4477d9c",
   "metadata": {},
   "outputs": [
    {
     "data": {
      "text/plain": [
       "<AxesSubplot: xlabel='max_iter', ylabel='score'>"
      ]
     },
     "execution_count": 262,
     "metadata": {},
     "output_type": "execute_result"
    },
    {
     "data": {
      "image/png": "[encoded data removed]",
      "text/plain": [
       "<Figure size 1600x600 with 1 Axes>"
      ]
     },
     "metadata": {},
     "output_type": "display_data"
    }
   ],
   "source": [
    "sns.lineplot(x=lr_scores[\"max_iter\"], y=lr_scores[\"score\"], hue=lr_scores[\"solver\"])"
   ]
  },
  {
   "cell_type": "markdown",
   "id": "ded65ec2",
   "metadata": {},
   "source": [
    "It appears that 0.816143 is the best that this algorithm can achieve, so I will select the one which took the least time to reach that result, i.e. using the 'lbfgs' solver with 50 iterations, or 100 iterations to play it safe.\n",
    "\n",
    "I can now construct the final pipeline:"
   ]
  },
  {
   "cell_type": "code",
   "execution_count": 263,
   "id": "43d8b79a",
   "metadata": {},
   "outputs": [],
   "source": [
    "model_4 = LogisticRegression(solver=\"lbfgs\", max_iter=100)\n",
    "\n",
    "final_pipeline = Pipeline(steps=[\n",
    "    ('preprocessor_4', preprocessor_4),\n",
    "    ('model_4', model_4)\n",
    "])"
   ]
  },
  {
   "cell_type": "markdown",
   "id": "9ddff1a3",
   "metadata": {},
   "source": [
    "## Generate predictions\n",
    "\n",
    "I can now train the model on the whole dataset, and use that model to generate my predictions."
   ]
  },
  {
   "cell_type": "code",
   "execution_count": 267,
   "id": "7e2f6c4f",
   "metadata": {},
   "outputs": [
    {
     "data": {
      "text/html": [
       "<div>\n",
       "<style scoped>\n",
       "    .dataframe tbody tr th:only-of-type {\n",
       "        vertical-align: middle;\n",
       "    }\n",
       "\n",
       "    .dataframe tbody tr th {\n",
       "        vertical-align: top;\n",
       "    }\n",
       "\n",
       "    .dataframe thead th {\n",
       "        text-align: right;\n",
       "    }\n",
       "</style>\n",
       "<table border=\"1\" class=\"dataframe\">\n",
       "  <thead>\n",
       "    <tr style=\"text-align: right;\">\n",
       "      <th></th>\n",
       "      <th>PassengerId</th>\n",
       "      <th>Survived</th>\n",
       "    </tr>\n",
       "  </thead>\n",
       "  <tbody>\n",
       "    <tr>\n",
       "      <th>0</th>\n",
       "      <td>892</td>\n",
       "      <td>0</td>\n",
       "    </tr>\n",
       "    <tr>\n",
       "      <th>1</th>\n",
       "      <td>893</td>\n",
       "      <td>0</td>\n",
       "    </tr>\n",
       "    <tr>\n",
       "      <th>2</th>\n",
       "      <td>894</td>\n",
       "      <td>0</td>\n",
       "    </tr>\n",
       "    <tr>\n",
       "      <th>3</th>\n",
       "      <td>895</td>\n",
       "      <td>0</td>\n",
       "    </tr>\n",
       "    <tr>\n",
       "      <th>4</th>\n",
       "      <td>896</td>\n",
       "      <td>1</td>\n",
       "    </tr>\n",
       "    <tr>\n",
       "      <th>...</th>\n",
       "      <td>...</td>\n",
       "      <td>...</td>\n",
       "    </tr>\n",
       "    <tr>\n",
       "      <th>413</th>\n",
       "      <td>1305</td>\n",
       "      <td>0</td>\n",
       "    </tr>\n",
       "    <tr>\n",
       "      <th>414</th>\n",
       "      <td>1306</td>\n",
       "      <td>1</td>\n",
       "    </tr>\n",
       "    <tr>\n",
       "      <th>415</th>\n",
       "      <td>1307</td>\n",
       "      <td>0</td>\n",
       "    </tr>\n",
       "    <tr>\n",
       "      <th>416</th>\n",
       "      <td>1308</td>\n",
       "      <td>0</td>\n",
       "    </tr>\n",
       "    <tr>\n",
       "      <th>417</th>\n",
       "      <td>1309</td>\n",
       "      <td>0</td>\n",
       "    </tr>\n",
       "  </tbody>\n",
       "</table>\n",
       "<p>418 rows × 2 columns</p>\n",
       "</div>"
      ],
      "text/plain": [
       "     PassengerId  Survived\n",
       "0            892         0\n",
       "1            893         0\n",
       "2            894         0\n",
       "3            895         0\n",
       "4            896         1\n",
       "..           ...       ...\n",
       "413         1305         0\n",
       "414         1306         1\n",
       "415         1307         0\n",
       "416         1308         0\n",
       "417         1309         0\n",
       "\n",
       "[418 rows x 2 columns]"
      ]
     },
     "execution_count": 267,
     "metadata": {},
     "output_type": "execute_result"
    }
   ],
   "source": [
    "X_test = pd.read_csv(\"C:/Users/arthu/OneDrive/Documents/GitHub/titanic_survival_predictions/titanic/test.csv\")\n",
    "\n",
    "X = df.copy()\n",
    "y = X.pop(\"Survived\")\n",
    "\n",
    "final_model = final_pipeline.fit(X, y)\n",
    "predictions = final_model.predict(X_test)\n",
    "\n",
    "output = pd.DataFrame({'PassengerId': X_test[\"PassengerId\"], 'Survived': predictions})\n",
    "\n",
    "output.to_csv(\"C:/Users/arthu/OneDrive/Documents/GitHub/titanic_survival_predictions/titanic/predictions.csv\", index=False)\n",
    "\n",
    "output"
   ]
  },
  {
   "cell_type": "markdown",
   "id": "ee9446c7",
   "metadata": {},
   "source": [
    "The score for these predictions was about 0.76, which is roughly in line with the score the same pipeline was getting in cross-validation. There is a lot of room for improvement in this score, but this has been a very useful learning exercise. I may return to this dataset in future to try to improve my score using additional techniques I pick up in the meantime. If I were to try again now, though, my next attempt would be a much more straightforward one - I would try using only the Sex, Age and Pclass features."
   ]
  }
 ],
 "metadata": {
  "kernelspec": {
   "display_name": "Python 3 (ipykernel)",
   "language": "python",
   "name": "python3"
  },
  "language_info": {
   "codemirror_mode": {
    "name": "ipython",
    "version": 3
   },
   "file_extension": ".py",
   "mimetype": "text/x-python",
   "name": "python",
   "nbconvert_exporter": "python",
   "pygments_lexer": "ipython3",
   "version": "3.11.0"
  }
 },
 "nbformat": 4,
 "nbformat_minor": 5
}
